{
  "nbformat": 4,
  "nbformat_minor": 0,
  "metadata": {
    "colab": {
      "provenance": [],
      "collapsed_sections": [
        "OE7va8ZMwbXL",
        "HtIKd8KN2XiY",
        "MoBLDTKI2fXW",
        "Lnc9YmU42hUR",
        "vZcFxNTi2oOj",
        "BeJTWqyH3J1B",
        "06OiPswx3B9v",
        "q8cLwTlP3lBa",
        "s5T5dbViUxHq",
        "zJC_sPg_hryQ",
        "G-9MJtRTv17B",
        "Ov7Ghjen3gXP",
        "q_mk4LRmLhSd",
        "te9PXAfXUDY8",
        "rDpB-qzUYCaB",
        "5BxOG5rlYg-P",
        "CvH6hhxzoWVx",
        "cvkG2n0d8mSM",
        "PXs9rkn08veU",
        "3cFcoJ6IGo6T",
        "3oU7tIYnJBcI",
        "vavGH93Thdkk",
        "_8N6vQuYnlLy",
        "4n-i6LS9nomW",
        "iwPjLPPPnsrO",
        "66iZOMomnwIA",
        "uEoui4HMSe6s",
        "nBbUE2h7Mr-h"
      ],
      "gpuType": "T4"
    },
    "kernelspec": {
      "name": "python3",
      "display_name": "Python 3"
    },
    "language_info": {
      "name": "python"
    },
    "accelerator": "GPU"
  },
  "cells": [
    {
      "cell_type": "markdown",
      "source": [
        "https://github.com/Amir-Hofo"
      ],
      "metadata": {
        "id": "weV86Y6yB_LM"
      }
    },
    {
      "cell_type": "markdown",
      "source": [
        "# 00_Arguments"
      ],
      "metadata": {
        "id": "OE7va8ZMwbXL"
      }
    },
    {
      "cell_type": "code",
      "source": [
        "system= \"colab\"\n",
        "seed= 8\n",
        "\n",
        "wandb_enable= True\n",
        "wandb_arg_name= input('Please input the WandB argument name:')\n",
        "\n",
        "batch_size= 80\n",
        "seq_len= 70\n",
        "\n",
        "embedding_dim= 300\n",
        "num_layers= 3\n",
        "hidden_dim= 1150\n",
        "dropoute= 0.1\n",
        "dropouti= 0.65\n",
        "dropouth= 0.3\n",
        "dropouto= 0.4\n",
        "weight_drop= 0.\n",
        "\n",
        "lr= 15\n",
        "wd= 1.2e-6\n",
        "momentum= 0.9\n",
        "clip= 0.25"
      ],
      "metadata": {
        "id": "xBvghGDDwfG-",
        "colab": {
          "base_uri": "https://localhost:8080/"
        },
        "outputId": "353314c5-8f9f-4f7d-f128-6d71ef511da0"
      },
      "execution_count": 73,
      "outputs": [
        {
          "name": "stdout",
          "output_type": "stream",
          "text": [
            "Please input the WandB argument name:LM_AWD_LSTM_30\n"
          ]
        }
      ]
    },
    {
      "cell_type": "markdown",
      "source": [
        "-----------"
      ],
      "metadata": {
        "id": "CDsOvpF-wfbg"
      }
    },
    {
      "cell_type": "markdown",
      "source": [
        "# 01_Library"
      ],
      "metadata": {
        "id": "HtIKd8KN2XiY"
      }
    },
    {
      "cell_type": "markdown",
      "source": [
        "## install"
      ],
      "metadata": {
        "id": "MoBLDTKI2fXW"
      }
    },
    {
      "cell_type": "code",
      "execution_count": 2,
      "metadata": {
        "collapsed": true,
        "id": "PCFVyCEe2PVW",
        "colab": {
          "base_uri": "https://localhost:8080/"
        },
        "outputId": "a6867cc2-7626-47d5-fe04-c9e71ae8fea2"
      },
      "outputs": [
        {
          "output_type": "stream",
          "name": "stdout",
          "text": [
            "\u001b[2K   \u001b[90m━━━━━━━━━━━━━━━━━━━━━━━━━━━━━━━━━━━━━━━━\u001b[0m \u001b[32m2.0/2.0 MB\u001b[0m \u001b[31m38.3 MB/s\u001b[0m eta \u001b[36m0:00:00\u001b[0m\n",
            "\u001b[2K   \u001b[90m━━━━━━━━━━━━━━━━━━━━━━━━━━━━━━━━━━━━━━━━\u001b[0m \u001b[32m755.5/755.5 MB\u001b[0m \u001b[31m2.6 MB/s\u001b[0m eta \u001b[36m0:00:00\u001b[0m\n",
            "\u001b[2K   \u001b[90m━━━━━━━━━━━━━━━━━━━━━━━━━━━━━━━━━━━━━━━━\u001b[0m \u001b[32m4.7/4.7 MB\u001b[0m \u001b[31m79.9 MB/s\u001b[0m eta \u001b[36m0:00:00\u001b[0m\n",
            "\u001b[2K   \u001b[90m━━━━━━━━━━━━━━━━━━━━━━━━━━━━━━━━━━━━━━━━\u001b[0m \u001b[32m410.6/410.6 MB\u001b[0m \u001b[31m3.6 MB/s\u001b[0m eta \u001b[36m0:00:00\u001b[0m\n",
            "\u001b[2K   \u001b[90m━━━━━━━━━━━━━━━━━━━━━━━━━━━━━━━━━━━━━━━━\u001b[0m \u001b[32m14.1/14.1 MB\u001b[0m \u001b[31m110.4 MB/s\u001b[0m eta \u001b[36m0:00:00\u001b[0m\n",
            "\u001b[2K   \u001b[90m━━━━━━━━━━━━━━━━━━━━━━━━━━━━━━━━━━━━━━━━\u001b[0m \u001b[32m23.7/23.7 MB\u001b[0m \u001b[31m85.3 MB/s\u001b[0m eta \u001b[36m0:00:00\u001b[0m\n",
            "\u001b[2K   \u001b[90m━━━━━━━━━━━━━━━━━━━━━━━━━━━━━━━━━━━━━━━━\u001b[0m \u001b[32m823.6/823.6 kB\u001b[0m \u001b[31m55.1 MB/s\u001b[0m eta \u001b[36m0:00:00\u001b[0m\n",
            "\u001b[2K   \u001b[90m━━━━━━━━━━━━━━━━━━━━━━━━━━━━━━━━━━━━━━━━\u001b[0m \u001b[32m731.7/731.7 MB\u001b[0m \u001b[31m2.4 MB/s\u001b[0m eta \u001b[36m0:00:00\u001b[0m\n",
            "\u001b[2K   \u001b[90m━━━━━━━━━━━━━━━━━━━━━━━━━━━━━━━━━━━━━━━━\u001b[0m \u001b[32m121.6/121.6 MB\u001b[0m \u001b[31m7.6 MB/s\u001b[0m eta \u001b[36m0:00:00\u001b[0m\n",
            "\u001b[2K   \u001b[90m━━━━━━━━━━━━━━━━━━━━━━━━━━━━━━━━━━━━━━━━\u001b[0m \u001b[32m56.5/56.5 MB\u001b[0m \u001b[31m13.1 MB/s\u001b[0m eta \u001b[36m0:00:00\u001b[0m\n",
            "\u001b[2K   \u001b[90m━━━━━━━━━━━━━━━━━━━━━━━━━━━━━━━━━━━━━━━━\u001b[0m \u001b[32m124.2/124.2 MB\u001b[0m \u001b[31m8.5 MB/s\u001b[0m eta \u001b[36m0:00:00\u001b[0m\n",
            "\u001b[2K   \u001b[90m━━━━━━━━━━━━━━━━━━━━━━━━━━━━━━━━━━━━━━━━\u001b[0m \u001b[32m196.0/196.0 MB\u001b[0m \u001b[31m6.3 MB/s\u001b[0m eta \u001b[36m0:00:00\u001b[0m\n",
            "\u001b[2K   \u001b[90m━━━━━━━━━━━━━━━━━━━━━━━━━━━━━━━━━━━━━━━━\u001b[0m \u001b[32m166.0/166.0 MB\u001b[0m \u001b[31m7.1 MB/s\u001b[0m eta \u001b[36m0:00:00\u001b[0m\n",
            "\u001b[2K   \u001b[90m━━━━━━━━━━━━━━━━━━━━━━━━━━━━━━━━━━━━━━━━\u001b[0m \u001b[32m99.1/99.1 kB\u001b[0m \u001b[31m8.6 MB/s\u001b[0m eta \u001b[36m0:00:00\u001b[0m\n",
            "\u001b[2K   \u001b[90m━━━━━━━━━━━━━━━━━━━━━━━━━━━━━━━━━━━━━━━━\u001b[0m \u001b[32m167.9/167.9 MB\u001b[0m \u001b[31m7.4 MB/s\u001b[0m eta \u001b[36m0:00:00\u001b[0m\n",
            "\u001b[?25h\u001b[31mERROR: pip's dependency resolver does not currently take into account all the packages that are installed. This behaviour is the source of the following dependency conflicts.\n",
            "torchaudio 2.5.1+cu124 requires torch==2.5.1, but you have torch 2.2.0 which is incompatible.\n",
            "torchvision 0.20.1+cu124 requires torch==2.5.1, but you have torch 2.2.0 which is incompatible.\u001b[0m\u001b[31m\n",
            "\u001b[0mCollecting torchmetrics\n",
            "  Downloading torchmetrics-1.6.2-py3-none-any.whl.metadata (20 kB)\n",
            "Requirement already satisfied: tqdm in /usr/local/lib/python3.11/dist-packages (4.67.1)\n",
            "Requirement already satisfied: wandb in /usr/local/lib/python3.11/dist-packages (0.19.8)\n",
            "Requirement already satisfied: numpy>1.20.0 in /usr/local/lib/python3.11/dist-packages (from torchmetrics) (1.26.4)\n",
            "Requirement already satisfied: packaging>17.1 in /usr/local/lib/python3.11/dist-packages (from torchmetrics) (24.2)\n",
            "Requirement already satisfied: torch>=2.0.0 in /usr/local/lib/python3.11/dist-packages (from torchmetrics) (2.2.0)\n",
            "Collecting lightning-utilities>=0.8.0 (from torchmetrics)\n",
            "  Downloading lightning_utilities-0.14.0-py3-none-any.whl.metadata (5.6 kB)\n",
            "Requirement already satisfied: click!=8.0.0,>=7.1 in /usr/local/lib/python3.11/dist-packages (from wandb) (8.1.8)\n",
            "Requirement already satisfied: docker-pycreds>=0.4.0 in /usr/local/lib/python3.11/dist-packages (from wandb) (0.4.0)\n",
            "Requirement already satisfied: gitpython!=3.1.29,>=1.0.0 in /usr/local/lib/python3.11/dist-packages (from wandb) (3.1.44)\n",
            "Requirement already satisfied: platformdirs in /usr/local/lib/python3.11/dist-packages (from wandb) (4.3.6)\n",
            "Requirement already satisfied: protobuf!=4.21.0,!=5.28.0,<6,>=3.19.0 in /usr/local/lib/python3.11/dist-packages (from wandb) (4.25.6)\n",
            "Requirement already satisfied: psutil>=5.0.0 in /usr/local/lib/python3.11/dist-packages (from wandb) (5.9.5)\n",
            "Requirement already satisfied: pydantic<3,>=2.6 in /usr/local/lib/python3.11/dist-packages (from wandb) (2.10.6)\n",
            "Requirement already satisfied: pyyaml in /usr/local/lib/python3.11/dist-packages (from wandb) (6.0.2)\n",
            "Requirement already satisfied: requests<3,>=2.0.0 in /usr/local/lib/python3.11/dist-packages (from wandb) (2.32.3)\n",
            "Requirement already satisfied: sentry-sdk>=2.0.0 in /usr/local/lib/python3.11/dist-packages (from wandb) (2.22.0)\n",
            "Requirement already satisfied: setproctitle in /usr/local/lib/python3.11/dist-packages (from wandb) (1.3.5)\n",
            "Requirement already satisfied: setuptools in /usr/local/lib/python3.11/dist-packages (from wandb) (75.1.0)\n",
            "Requirement already satisfied: typing-extensions<5,>=4.4 in /usr/local/lib/python3.11/dist-packages (from wandb) (4.12.2)\n",
            "Requirement already satisfied: six>=1.4.0 in /usr/local/lib/python3.11/dist-packages (from docker-pycreds>=0.4.0->wandb) (1.17.0)\n",
            "Requirement already satisfied: gitdb<5,>=4.0.1 in /usr/local/lib/python3.11/dist-packages (from gitpython!=3.1.29,>=1.0.0->wandb) (4.0.12)\n",
            "Requirement already satisfied: annotated-types>=0.6.0 in /usr/local/lib/python3.11/dist-packages (from pydantic<3,>=2.6->wandb) (0.7.0)\n",
            "Requirement already satisfied: pydantic-core==2.27.2 in /usr/local/lib/python3.11/dist-packages (from pydantic<3,>=2.6->wandb) (2.27.2)\n",
            "Requirement already satisfied: charset-normalizer<4,>=2 in /usr/local/lib/python3.11/dist-packages (from requests<3,>=2.0.0->wandb) (3.4.1)\n",
            "Requirement already satisfied: idna<4,>=2.5 in /usr/local/lib/python3.11/dist-packages (from requests<3,>=2.0.0->wandb) (3.10)\n",
            "Requirement already satisfied: urllib3<3,>=1.21.1 in /usr/local/lib/python3.11/dist-packages (from requests<3,>=2.0.0->wandb) (2.3.0)\n",
            "Requirement already satisfied: certifi>=2017.4.17 in /usr/local/lib/python3.11/dist-packages (from requests<3,>=2.0.0->wandb) (2025.1.31)\n",
            "Requirement already satisfied: filelock in /usr/local/lib/python3.11/dist-packages (from torch>=2.0.0->torchmetrics) (3.17.0)\n",
            "Requirement already satisfied: sympy in /usr/local/lib/python3.11/dist-packages (from torch>=2.0.0->torchmetrics) (1.13.1)\n",
            "Requirement already satisfied: networkx in /usr/local/lib/python3.11/dist-packages (from torch>=2.0.0->torchmetrics) (3.4.2)\n",
            "Requirement already satisfied: jinja2 in /usr/local/lib/python3.11/dist-packages (from torch>=2.0.0->torchmetrics) (3.1.6)\n",
            "Requirement already satisfied: fsspec in /usr/local/lib/python3.11/dist-packages (from torch>=2.0.0->torchmetrics) (2024.10.0)\n",
            "Requirement already satisfied: nvidia-cuda-nvrtc-cu12==12.1.105 in /usr/local/lib/python3.11/dist-packages (from torch>=2.0.0->torchmetrics) (12.1.105)\n",
            "Requirement already satisfied: nvidia-cuda-runtime-cu12==12.1.105 in /usr/local/lib/python3.11/dist-packages (from torch>=2.0.0->torchmetrics) (12.1.105)\n",
            "Requirement already satisfied: nvidia-cuda-cupti-cu12==12.1.105 in /usr/local/lib/python3.11/dist-packages (from torch>=2.0.0->torchmetrics) (12.1.105)\n",
            "Requirement already satisfied: nvidia-cudnn-cu12==8.9.2.26 in /usr/local/lib/python3.11/dist-packages (from torch>=2.0.0->torchmetrics) (8.9.2.26)\n",
            "Requirement already satisfied: nvidia-cublas-cu12==12.1.3.1 in /usr/local/lib/python3.11/dist-packages (from torch>=2.0.0->torchmetrics) (12.1.3.1)\n",
            "Requirement already satisfied: nvidia-cufft-cu12==11.0.2.54 in /usr/local/lib/python3.11/dist-packages (from torch>=2.0.0->torchmetrics) (11.0.2.54)\n",
            "Requirement already satisfied: nvidia-curand-cu12==10.3.2.106 in /usr/local/lib/python3.11/dist-packages (from torch>=2.0.0->torchmetrics) (10.3.2.106)\n",
            "Requirement already satisfied: nvidia-cusolver-cu12==11.4.5.107 in /usr/local/lib/python3.11/dist-packages (from torch>=2.0.0->torchmetrics) (11.4.5.107)\n",
            "Requirement already satisfied: nvidia-cusparse-cu12==12.1.0.106 in /usr/local/lib/python3.11/dist-packages (from torch>=2.0.0->torchmetrics) (12.1.0.106)\n",
            "Requirement already satisfied: nvidia-nccl-cu12==2.19.3 in /usr/local/lib/python3.11/dist-packages (from torch>=2.0.0->torchmetrics) (2.19.3)\n",
            "Requirement already satisfied: nvidia-nvtx-cu12==12.1.105 in /usr/local/lib/python3.11/dist-packages (from torch>=2.0.0->torchmetrics) (12.1.105)\n",
            "Requirement already satisfied: triton==2.2.0 in /usr/local/lib/python3.11/dist-packages (from torch>=2.0.0->torchmetrics) (2.2.0)\n",
            "Requirement already satisfied: nvidia-nvjitlink-cu12 in /usr/local/lib/python3.11/dist-packages (from nvidia-cusolver-cu12==11.4.5.107->torch>=2.0.0->torchmetrics) (12.5.82)\n",
            "Requirement already satisfied: smmap<6,>=3.0.1 in /usr/local/lib/python3.11/dist-packages (from gitdb<5,>=4.0.1->gitpython!=3.1.29,>=1.0.0->wandb) (5.0.2)\n",
            "Requirement already satisfied: MarkupSafe>=2.0 in /usr/local/lib/python3.11/dist-packages (from jinja2->torch>=2.0.0->torchmetrics) (3.0.2)\n",
            "Requirement already satisfied: mpmath<1.4,>=1.1.0 in /usr/local/lib/python3.11/dist-packages (from sympy->torch>=2.0.0->torchmetrics) (1.3.0)\n",
            "Downloading torchmetrics-1.6.2-py3-none-any.whl (931 kB)\n",
            "\u001b[2K   \u001b[90m━━━━━━━━━━━━━━━━━━━━━━━━━━━━━━━━━━━━━━━━\u001b[0m \u001b[32m931.6/931.6 kB\u001b[0m \u001b[31m18.2 MB/s\u001b[0m eta \u001b[36m0:00:00\u001b[0m\n",
            "\u001b[?25hDownloading lightning_utilities-0.14.0-py3-none-any.whl (28 kB)\n",
            "Installing collected packages: lightning-utilities, torchmetrics\n",
            "Successfully installed lightning-utilities-0.14.0 torchmetrics-1.6.2\n"
          ]
        }
      ],
      "source": [
        "try:\n",
        "    import torchtext\n",
        "except ImportError:\n",
        "    ! pip install -q torchtext==0.17.0\n",
        "    import torchtext\n",
        "! pip install -q torchmetrics tqdm wandb"
      ]
    },
    {
      "cell_type": "markdown",
      "source": [
        "## import"
      ],
      "metadata": {
        "id": "Lnc9YmU42hUR"
      }
    },
    {
      "cell_type": "code",
      "source": [
        "import os\n",
        "from collections import Counter\n",
        "import torchmetrics as tm\n",
        "import wandb\n",
        "import tqdm\n",
        "import numpy as np\n",
        "import matplotlib.pyplot as plt\n",
        "\n",
        "import torch\n",
        "import torch.nn as nn\n",
        "from torch import optim\n",
        "from torch.utils.data import DataLoader, Dataset, random_split\n",
        "\n",
        "from torchtext.data.utils import get_tokenizer\n",
        "from torchtext.vocab import build_vocab_from_iterator"
      ],
      "metadata": {
        "id": "c1IQIhZI2lSk"
      },
      "execution_count": 3,
      "outputs": []
    },
    {
      "cell_type": "markdown",
      "source": [
        "----------"
      ],
      "metadata": {
        "id": "Oe4RFU5r2nAk"
      }
    },
    {
      "cell_type": "markdown",
      "source": [
        "# 02_Utils"
      ],
      "metadata": {
        "id": "vZcFxNTi2oOj"
      }
    },
    {
      "cell_type": "markdown",
      "source": [
        "## system"
      ],
      "metadata": {
        "id": "BeJTWqyH3J1B"
      }
    },
    {
      "cell_type": "code",
      "source": [
        "if system== \"local\":\n",
        "    project_path= r\"./\"\n",
        "    dataset_path= './wikitext-2/'\n",
        "\n",
        "elif system== \"colab\":\n",
        "    root_path= '/content/'\n",
        "    project_path= r\"/content/drive/MyDrive/Catalist/1_language modeling/\"\n",
        "    dataset_path= os.path.join(project_path, r'dataset/wikitext-2/')\n",
        "\n",
        "else:\n",
        "  raise ValueError(\"Invalid system\")\n"
      ],
      "metadata": {
        "id": "g9WyhGuE3Fpl"
      },
      "execution_count": 7,
      "outputs": []
    },
    {
      "cell_type": "markdown",
      "source": [
        "## device"
      ],
      "metadata": {
        "id": "06OiPswx3B9v"
      }
    },
    {
      "cell_type": "code",
      "source": [
        "device= 'cuda' if torch.cuda.is_available() else 'cpu'\n",
        "device"
      ],
      "metadata": {
        "colab": {
          "base_uri": "https://localhost:8080/",
          "height": 130
        },
        "id": "SLtfbFUe2nrb",
        "outputId": "d9e77fdb-a58f-4bfe-b0ef-9f9952adaccf"
      },
      "execution_count": 8,
      "outputs": [
        {
          "output_type": "execute_result",
          "data": {
            "text/plain": [
              "'cuda'"
            ],
            "application/vnd.google.colaboratory.intrinsic+json": {
              "type": "string"
            }
          },
          "metadata": {},
          "execution_count": 8
        }
      ]
    },
    {
      "cell_type": "markdown",
      "source": [
        "## drive mount"
      ],
      "metadata": {
        "id": "q8cLwTlP3lBa"
      }
    },
    {
      "cell_type": "code",
      "source": [
        "if system== \"colab\":\n",
        "    from google.colab import drive\n",
        "    drive.mount('/content/drive')"
      ],
      "metadata": {
        "id": "-aLyPQ7I3nid",
        "colab": {
          "base_uri": "https://localhost:8080/"
        },
        "outputId": "d279b7e2-d36f-4282-f8b3-e8942e6028ee"
      },
      "execution_count": 9,
      "outputs": [
        {
          "output_type": "stream",
          "name": "stdout",
          "text": [
            "Mounted at /content/drive\n"
          ]
        }
      ]
    },
    {
      "cell_type": "markdown",
      "source": [
        "## number of params fn"
      ],
      "metadata": {
        "id": "s5T5dbViUxHq"
      }
    },
    {
      "cell_type": "code",
      "source": [
        "def num_trainable_params(model):\n",
        "  nums= sum(p.numel() for p in model.parameters() if p.requires_grad)/1e6\n",
        "  return nums"
      ],
      "metadata": {
        "id": "MkO-Zv1cUw0J"
      },
      "execution_count": 10,
      "outputs": []
    },
    {
      "cell_type": "markdown",
      "source": [
        "## avragemeter"
      ],
      "metadata": {
        "id": "zJC_sPg_hryQ"
      }
    },
    {
      "cell_type": "code",
      "source": [
        "class AverageMeter(object):\n",
        "    \"\"\"Computes and stores the average and current value\"\"\"\n",
        "    def __init__(self):\n",
        "        self.reset()\n",
        "\n",
        "    def reset(self):\n",
        "        self.val = 0\n",
        "        self.avg = 0\n",
        "        self.sum = 0\n",
        "        self.count = 0\n",
        "\n",
        "    def update(self, val, n=1):\n",
        "        self.val = val\n",
        "        self.sum += val * n\n",
        "        self.count += n\n",
        "        self.avg = self.sum / self.count"
      ],
      "metadata": {
        "id": "JsTSPNUDhuXg"
      },
      "execution_count": 11,
      "outputs": []
    },
    {
      "cell_type": "markdown",
      "source": [
        "## set seed"
      ],
      "metadata": {
        "id": "G-9MJtRTv17B"
      }
    },
    {
      "cell_type": "code",
      "source": [
        "def set_seed(seed):\n",
        "  np.random.seed(seed)\n",
        "  torch.manual_seed(seed)\n",
        "  if torch.cuda.is_available():\n",
        "      torch.cuda.manual_seed(seed)"
      ],
      "metadata": {
        "id": "RqKXwotRv1sM"
      },
      "execution_count": 12,
      "outputs": []
    },
    {
      "cell_type": "markdown",
      "source": [
        "--------"
      ],
      "metadata": {
        "id": "gZDO-FBI3d8Z"
      }
    },
    {
      "cell_type": "markdown",
      "source": [
        "# 03_Data"
      ],
      "metadata": {
        "id": "Ov7Ghjen3gXP"
      }
    },
    {
      "cell_type": "code",
      "source": [
        "class WikiTextDataset:\n",
        "    def __init__(self, file_path):\n",
        "        self.file_path= file_path\n",
        "\n",
        "    def __iter__(self):\n",
        "        with open(self.file_path, 'r', encoding= 'utf-8') as f:\n",
        "            for line in f:\n",
        "                yield line.strip()\n",
        "\n",
        "train_iter= WikiTextDataset(os.path.join(dataset_path, \"wiki.train.tokens\"))\n",
        "valid_iter= WikiTextDataset(os.path.join(dataset_path, \"wiki.valid.tokens\"))\n",
        "test_iter= WikiTextDataset(os.path.join(dataset_path, \"wiki.test.tokens\"))\n",
        "\n",
        "train_iter_= iter(train_iter)\n",
        "print(next(train_iter_))\n",
        "print(next(train_iter_))"
      ],
      "metadata": {
        "id": "ETPirO6Gzmjq",
        "colab": {
          "base_uri": "https://localhost:8080/"
        },
        "outputId": "97294557-bba0-46f8-a7a7-d4826befd8ce"
      },
      "execution_count": 13,
      "outputs": [
        {
          "output_type": "stream",
          "name": "stdout",
          "text": [
            "\n",
            "= Valkyria Chronicles III =\n"
          ]
        }
      ]
    },
    {
      "cell_type": "markdown",
      "source": [
        "-------"
      ],
      "metadata": {
        "id": "O32h15BVZI1z"
      }
    },
    {
      "cell_type": "markdown",
      "source": [
        "# 04_Tokenize & Vocab"
      ],
      "metadata": {
        "id": "q_mk4LRmLhSd"
      }
    },
    {
      "cell_type": "code",
      "source": [
        "tokenizer= get_tokenizer('basic_english')\n",
        "vocab= build_vocab_from_iterator(map(tokenizer, train_iter), specials=['<unk>'])\n",
        "vocab.set_default_index(vocab['<unk>'])\n",
        "torch.save(vocab, 'vocab.pt')\n",
        "vocab(['amir', 'hi', 'rookie', 'fouladi'])"
      ],
      "metadata": {
        "colab": {
          "base_uri": "https://localhost:8080/"
        },
        "id": "mHCDaYnFLHn1",
        "outputId": "ad7864eb-b8ea-4bfb-d819-328580695fff"
      },
      "execution_count": 14,
      "outputs": [
        {
          "output_type": "execute_result",
          "data": {
            "text/plain": [
              "[0, 9206, 6358, 0]"
            ]
          },
          "metadata": {},
          "execution_count": 14
        }
      ]
    },
    {
      "cell_type": "markdown",
      "source": [
        "-----"
      ],
      "metadata": {
        "id": "0sWtrAOYZKrw"
      }
    },
    {
      "cell_type": "markdown",
      "source": [
        "# 05_EDA"
      ],
      "metadata": {
        "id": "te9PXAfXUDY8"
      }
    },
    {
      "cell_type": "markdown",
      "source": [
        "## mean sentence length"
      ],
      "metadata": {
        "id": "rDpB-qzUYCaB"
      }
    },
    {
      "cell_type": "code",
      "source": [
        "total_sentence_count= 0\n",
        "total_sentence_length= 0\n",
        "\n",
        "for line in train_iter:\n",
        "    sentences= line.split('.')\n",
        "\n",
        "    for sentence in sentences:\n",
        "        tokens= sentence.strip().split()\n",
        "        sentence_length= len(tokens)\n",
        "\n",
        "        if sentence_length >0:\n",
        "            total_sentence_count +=1\n",
        "            total_sentence_length +=sentence_length\n",
        "\n",
        "mean_sentence_length= total_sentence_length/ total_sentence_count\n",
        "\n",
        "print(f'Mean sentence length in Wikitext-2: {mean_sentence_length:.2f}')"
      ],
      "metadata": {
        "colab": {
          "base_uri": "https://localhost:8080/"
        },
        "id": "Xa1scqHtUB0C",
        "outputId": "582cffed-363e-494f-cbb4-d4755dc189fa"
      },
      "execution_count": 15,
      "outputs": [
        {
          "output_type": "stream",
          "name": "stdout",
          "text": [
            "Mean sentence length in Wikitext-2: 21.69\n"
          ]
        }
      ]
    },
    {
      "cell_type": "markdown",
      "source": [
        "## most common and least common words"
      ],
      "metadata": {
        "id": "5BxOG5rlYg-P"
      }
    },
    {
      "cell_type": "code",
      "source": [
        "freqs= Counter()\n",
        "for tokens in map(tokenizer, train_iter):\n",
        "  freqs.update(tokens)"
      ],
      "metadata": {
        "id": "D141M3LKYfT4"
      },
      "execution_count": 16,
      "outputs": []
    },
    {
      "cell_type": "code",
      "source": [
        "freqs.most_common()[:20]"
      ],
      "metadata": {
        "colab": {
          "base_uri": "https://localhost:8080/"
        },
        "collapsed": true,
        "id": "kMGqTQq_ZP5W",
        "outputId": "d8dfddee-8e6b-47a2-9898-02ca514fadfb"
      },
      "execution_count": 17,
      "outputs": [
        {
          "output_type": "execute_result",
          "data": {
            "text/plain": [
              "[('the', 130768),\n",
              " (',', 102615),\n",
              " ('.', 83397),\n",
              " ('of', 57030),\n",
              " ('<unk>', 54625),\n",
              " ('and', 50735),\n",
              " ('in', 45015),\n",
              " ('to', 39521),\n",
              " ('a', 36523),\n",
              " ('=', 29570),\n",
              " ('was', 21008),\n",
              " (\"'\", 18484),\n",
              " ('@-@', 16906),\n",
              " ('on', 15140),\n",
              " ('as', 15058),\n",
              " ('s', 14936),\n",
              " ('that', 14351),\n",
              " ('for', 13794),\n",
              " ('with', 13012),\n",
              " ('by', 12718)]"
            ]
          },
          "metadata": {},
          "execution_count": 17
        }
      ]
    },
    {
      "cell_type": "code",
      "source": [
        "freqs.most_common()[-20:]"
      ],
      "metadata": {
        "colab": {
          "base_uri": "https://localhost:8080/"
        },
        "collapsed": true,
        "id": "u_2iH4btZQV_",
        "outputId": "a810cfd3-68b0-4c85-e5fa-cf3fc29d97c6"
      },
      "execution_count": 18,
      "outputs": [
        {
          "output_type": "execute_result",
          "data": {
            "text/plain": [
              "[('yellowwoods', 3),\n",
              " ('tomentum', 3),\n",
              " ('secretion', 3),\n",
              " ('spruces', 3),\n",
              " ('lewenthal', 3),\n",
              " ('caprices', 3),\n",
              " ('étude', 3),\n",
              " ('mineurs', 3),\n",
              " ('sonatine', 3),\n",
              " ('chants', 3),\n",
              " ('philipp', 3),\n",
              " ('prefaced', 3),\n",
              " ('kreutzer', 3),\n",
              " ('forrester', 3),\n",
              " ('zoromski', 3),\n",
              " ('roundabouts', 3),\n",
              " ('tuscola', 3),\n",
              " ('northeasterly', 3),\n",
              " ('intergrades', 3),\n",
              " ('gallinae', 3)]"
            ]
          },
          "metadata": {},
          "execution_count": 18
        }
      ]
    },
    {
      "cell_type": "markdown",
      "source": [
        "-------"
      ],
      "metadata": {
        "id": "C1HVbxUIZMV4"
      }
    },
    {
      "cell_type": "markdown",
      "source": [
        "# 06_Preprocessing"
      ],
      "metadata": {
        "id": "CvH6hhxzoWVx"
      }
    },
    {
      "cell_type": "code",
      "source": [
        "def data_process(raw_text_iter, seq_len):\n",
        "  data= torch.cat([torch.LongTensor(vocab(tokenizer(line))) for line in raw_text_iter])\n",
        "  M, r= len(data) // seq_len, len(data) % seq_len\n",
        "  data= torch.cat((data, torch.LongTensor([0]))) if r==0 else data\n",
        "\n",
        "  inputs= data[:M* seq_len].reshape(-1, seq_len)\n",
        "  targets= data[1: M*seq_len +1].reshape(-1, seq_len)\n",
        "\n",
        "  return inputs, targets"
      ],
      "metadata": {
        "id": "I-tMEf99ZM6_"
      },
      "execution_count": 19,
      "outputs": []
    },
    {
      "cell_type": "code",
      "source": [
        "x_train, y_train= data_process(train_iter, seq_len)\n",
        "x_valid, y_valid= data_process(valid_iter, seq_len)\n",
        "x_test, y_test= data_process(test_iter, seq_len)\n",
        "\n",
        "x_train.shape, y_train.shape, x_valid.shape, y_valid.shape, x_test.shape, y_test.shape"
      ],
      "metadata": {
        "colab": {
          "base_uri": "https://localhost:8080/"
        },
        "id": "l6xi-nQ-pUAo",
        "outputId": "43d954b0-7806-4127-b405-22eb5094c2ed"
      },
      "execution_count": 20,
      "outputs": [
        {
          "output_type": "execute_result",
          "data": {
            "text/plain": [
              "(torch.Size([29285, 70]),\n",
              " torch.Size([29285, 70]),\n",
              " torch.Size([3063, 70]),\n",
              " torch.Size([3063, 70]),\n",
              " torch.Size([3455, 70]),\n",
              " torch.Size([3455, 70]))"
            ]
          },
          "metadata": {},
          "execution_count": 20
        }
      ]
    },
    {
      "cell_type": "markdown",
      "source": [
        "-------"
      ],
      "metadata": {
        "id": "tBxmZamf8q0O"
      }
    },
    {
      "cell_type": "markdown",
      "source": [
        "# 07_Custom Dataset"
      ],
      "metadata": {
        "id": "cvkG2n0d8mSM"
      }
    },
    {
      "cell_type": "code",
      "source": [
        "class CustomDataset(Dataset):\n",
        "\n",
        "  def __init__(self, inputs, targets):\n",
        "    self.inputs= inputs\n",
        "    self.targets= targets\n",
        "\n",
        "  def __len__(self):\n",
        "    return self.inputs.shape[0]\n",
        "\n",
        "  def __getitem__(self, idx):\n",
        "    return self.inputs[idx], self.targets[idx]"
      ],
      "metadata": {
        "id": "obgQq8r371I5"
      },
      "execution_count": 21,
      "outputs": []
    },
    {
      "cell_type": "code",
      "source": [
        "train_set= CustomDataset(x_train, y_train)\n",
        "valid_set= CustomDataset(x_valid, y_valid)\n",
        "test_set= CustomDataset(x_test, y_test)"
      ],
      "metadata": {
        "id": "oK8hRvjQ717_"
      },
      "execution_count": 22,
      "outputs": []
    },
    {
      "cell_type": "markdown",
      "source": [
        "--------"
      ],
      "metadata": {
        "id": "VcoLcApb84tz"
      }
    },
    {
      "cell_type": "markdown",
      "source": [
        "# 08_DataLoader"
      ],
      "metadata": {
        "id": "PXs9rkn08veU"
      }
    },
    {
      "cell_type": "code",
      "source": [
        "if seed:\n",
        "  set_seed(seed)\n",
        "\n",
        "train_loader= DataLoader(train_set, batch_size= batch_size, shuffle= True)\n",
        "valid_loader= DataLoader(valid_set, batch_size= 2*batch_size, shuffle= False)\n",
        "test_loader= DataLoader(test_set, batch_size= 2*batch_size, shuffle= False)\n",
        "\n",
        "print(\"train batch size:\",train_loader.batch_size,\n",
        "     \", num of batch:\", len(train_loader))\n",
        "print(\"valid batch size:\",valid_loader.batch_size,\n",
        "     \", num of batch:\", len(valid_loader))\n",
        "print(\"test batch size:\",test_loader.batch_size,\n",
        "     \", num of batch:\", len(test_loader))"
      ],
      "metadata": {
        "id": "iWuf1Dw-8dTp",
        "colab": {
          "base_uri": "https://localhost:8080/"
        },
        "outputId": "885effc0-9213-4d4f-a4cf-e6adc8491536"
      },
      "execution_count": 23,
      "outputs": [
        {
          "output_type": "stream",
          "name": "stdout",
          "text": [
            "train batch size: 80 , num of batch: 367\n",
            "valid batch size: 160 , num of batch: 20\n",
            "test batch size: 160 , num of batch: 22\n"
          ]
        }
      ]
    },
    {
      "cell_type": "code",
      "source": [
        "x_batch, y_batch= next(iter(train_loader))\n",
        "x_batch.shape, y_batch.shape"
      ],
      "metadata": {
        "colab": {
          "base_uri": "https://localhost:8080/"
        },
        "id": "7qOLluwk9ETL",
        "outputId": "6a6f8972-fc57-46a9-8c1a-468506aaf217"
      },
      "execution_count": 24,
      "outputs": [
        {
          "output_type": "execute_result",
          "data": {
            "text/plain": [
              "(torch.Size([80, 70]), torch.Size([80, 70]))"
            ]
          },
          "metadata": {},
          "execution_count": 24
        }
      ]
    },
    {
      "cell_type": "markdown",
      "source": [
        "-------"
      ],
      "metadata": {
        "id": "mlsX1XjLGnF5"
      }
    },
    {
      "cell_type": "markdown",
      "source": [
        "# 09_Model"
      ],
      "metadata": {
        "id": "3cFcoJ6IGo6T"
      }
    },
    {
      "cell_type": "code",
      "source": [
        "class WeightDrop(torch.nn.Module):\n",
        "\n",
        "  def __init__(self, recurrent_model, weights, dropout= 0):\n",
        "    super().__init__()\n",
        "    self.recurrent_model= recurrent_model\n",
        "    self.weights= weights\n",
        "    self.dropout= dropout\n",
        "    self._setup()\n",
        "\n",
        "  def disabling_flatten_parameters(*args, **kwargs):\n",
        "    return\n",
        "\n",
        "  def _setup(self):\n",
        "    if issubclass(type(self.recurrent_model), torch.nn.RNNBase):\n",
        "      self.recurrent_model.flatten_parameters= self.disabling_flatten_parameters\n",
        "\n",
        "      for name_w in self.weights:\n",
        "        w= getattr(self.recurrent_model, name_w)\n",
        "        del self.recurrent_model._parameters[name_w]\n",
        "        self.recurrent_model.register_parameter(name_w + '_raw', nn.Parameter(w.data))\n",
        "\n",
        "  def _setweights(self):\n",
        "    for name_w in self.weights:\n",
        "      w, raw_w= None, getattr(self.recurrent_model, name_w + '_raw')\n",
        "      mask= torch.nn.functional.dropout(torch.ones_like(raw_w), p= self.dropout,\n",
        "                                         training= True) * (1 - self.dropout)\n",
        "      setattr(self.recurrent_model, name_w, raw_w * mask)\n",
        "\n",
        "  def forward(self, *args):\n",
        "    self._setweights()\n",
        "    return self.recurrent_model.forward(*args)"
      ],
      "metadata": {
        "id": "8u888uJLcvKG"
      },
      "execution_count": 74,
      "outputs": []
    },
    {
      "cell_type": "code",
      "source": [
        "def embedded_dropout(embed, words, dropout= 0.1, scale= None):\n",
        "  if dropout:\n",
        "    mask= embed.weight.data.new().resize_((embed.weight.size(0), 1)).bernoulli_(\n",
        "          1 - dropout).expand_as(embed.weight) / (1 - dropout)\n",
        "    masked_embed_weight= mask * embed.weight\n",
        "  else:\n",
        "    masked_embed_weight= embed.weight\n",
        "\n",
        "  if scale:\n",
        "    masked_embed_weight= scale.expand_as(masked_embed_weight) * masked_embed_weight\n",
        "\n",
        "  padding_idx= embed.padding_idx\n",
        "  if padding_idx is None:\n",
        "    padding_idx= -1\n",
        "\n",
        "  embedding= torch.nn.functional.embedding(words, masked_embed_weight,\n",
        "                                           padding_idx, embed.max_norm, embed.norm_type,\n",
        "                                           embed.scale_grad_by_freq, embed.sparse)\n",
        "  return embedding"
      ],
      "metadata": {
        "id": "38dEcQb8tIbO"
      },
      "execution_count": 75,
      "outputs": []
    },
    {
      "cell_type": "code",
      "source": [
        "class LockedDropout(nn.Module):\n",
        "  def __init__(self):\n",
        "    super(LockedDropout, self).__init__()\n",
        "\n",
        "  def forward(self, x, dropout):\n",
        "    if not self.training or not dropout:\n",
        "      return x\n",
        "    m= x.data.new(1, x.size(1), x.size(2)).bernoulli_(1 - dropout)\n",
        "    mask= m.requires_grad_(False) / (1 - dropout)\n",
        "    mask= mask.expand_as(x)\n",
        "    return mask * x"
      ],
      "metadata": {
        "id": "KlFlRJt4D7dx"
      },
      "execution_count": 76,
      "outputs": []
    },
    {
      "cell_type": "code",
      "source": [
        "class LanguageModel(nn.Module):\n",
        "\n",
        "  def __init__(self, vocab_size, embedding_dim, hidden_dim, num_layers,\n",
        "               dropoute= 0.2, dropouti= 0.2, dropouth= 0.2, dropouto= 0.2,\n",
        "               weight_drop= 0.2):\n",
        "    super().__init__()\n",
        "    self.num_layers= num_layers\n",
        "    self.hidden_dim= hidden_dim\n",
        "    self.embedding_dim= embedding_dim\n",
        "\n",
        "    self.embedding= nn.Embedding(vocab_size, embedding_dim)\n",
        "    self.embedding.weight.data.uniform_(-0.1, 0.1)\n",
        "\n",
        "    self.lstms= []\n",
        "    self.lstms.append(nn.LSTM(embedding_dim, hidden_dim, num_layers= 1,\n",
        "                              dropout= 0, batch_first= False))\n",
        "    self.lstms.append(nn.LSTM(hidden_dim, hidden_dim, num_layers= 1,\n",
        "                              dropout= 0, batch_first= False))\n",
        "    self.lstms.append(nn.LSTM(hidden_dim, embedding_dim, num_layers= 1,\n",
        "                              dropout= 0, batch_first= False))\n",
        "    if weight_drop > 0:\n",
        "      self.lstms= [WeightDrop(lstm, ['weight_hh_l0'], dropout= weight_drop) for lstm in self.lstms]\n",
        "    self.lstms= nn.ModuleList(self.lstms)\n",
        "\n",
        "    self.fc= nn.Linear(embedding_dim, vocab_size)\n",
        "    self.fc.weight= self.embedding.weight\n",
        "\n",
        "    self.lockdrop= LockedDropout()\n",
        "    self.dropoute= dropoute\n",
        "    self.dropouti= dropouti\n",
        "    self.dropouth= dropouth\n",
        "    self.dropouto= dropouto\n",
        "\n",
        "  def forward(self, src):\n",
        "    embedding= embedded_dropout(self.embedding, src,\n",
        "                                dropout= self.dropoute if self.training else 0)\n",
        "    embedding= self.lockdrop(embedding, self.dropouti)\n",
        "\n",
        "    new_hiddens= []\n",
        "    for l, lstm in enumerate(self.lstms):\n",
        "      embedding, _= lstm(embedding)\n",
        "      if l != self.num_layers-1:\n",
        "        embedding= self.lockdrop(embedding, self.dropouth)\n",
        "\n",
        "    embedding= self.lockdrop(embedding, self.dropouto)\n",
        "    prediction= self.fc(embedding)\n",
        "\n",
        "    return prediction"
      ],
      "metadata": {
        "id": "kSZENAuDGnvL"
      },
      "execution_count": 77,
      "outputs": []
    },
    {
      "cell_type": "code",
      "source": [
        "set_seed(seed)\n",
        "vocab_size= len(vocab)\n",
        "\n",
        "model= LanguageModel(vocab_size= len(vocab), embedding_dim= embedding_dim,\n",
        "                     hidden_dim= hidden_dim, num_layers= num_layers,\n",
        "                     dropoute= dropoute, dropouti= dropouti,\n",
        "                     dropouth= dropouth, dropouto= dropouto,\n",
        "                     weight_drop= weight_drop)\n",
        "model"
      ],
      "metadata": {
        "id": "gFyJcS0ZIrss",
        "colab": {
          "base_uri": "https://localhost:8080/"
        },
        "outputId": "7aa6b4e2-1004-4101-de94-df522663326f"
      },
      "execution_count": 78,
      "outputs": [
        {
          "output_type": "execute_result",
          "data": {
            "text/plain": [
              "LanguageModel(\n",
              "  (embedding): Embedding(28782, 300)\n",
              "  (lstms): ModuleList(\n",
              "    (0): LSTM(300, 1150)\n",
              "    (1): LSTM(1150, 1150)\n",
              "    (2): LSTM(1150, 300)\n",
              "  )\n",
              "  (fc): Linear(in_features=300, out_features=28782, bias=True)\n",
              "  (lockdrop): LockedDropout()\n",
              ")"
            ]
          },
          "metadata": {},
          "execution_count": 78
        }
      ]
    },
    {
      "cell_type": "code",
      "source": [
        "print(num_trainable_params(model))\n",
        "print(num_trainable_params(model.embedding))\n",
        "print(num_trainable_params(model.lstms))\n",
        "print(num_trainable_params(model.fc))"
      ],
      "metadata": {
        "id": "r2pZWIY7UpbT",
        "colab": {
          "base_uri": "https://localhost:8080/"
        },
        "outputId": "1d8155e6-399f-4214-c99b-45ab84aa5940"
      },
      "execution_count": 79,
      "outputs": [
        {
          "output_type": "stream",
          "name": "stdout",
          "text": [
            "27.674182\n",
            "8.6346\n",
            "19.0108\n",
            "8.663382\n"
          ]
        }
      ]
    },
    {
      "cell_type": "markdown",
      "source": [
        "----------"
      ],
      "metadata": {
        "id": "2jMtl3dHI-Ua"
      }
    },
    {
      "cell_type": "markdown",
      "source": [
        "# 10_Config"
      ],
      "metadata": {
        "id": "3oU7tIYnJBcI"
      }
    },
    {
      "cell_type": "code",
      "source": [
        "optimizer= optim.SGD(model.parameters(), lr= lr,\n",
        "                     weight_decay= wd, momentum= momentum,\n",
        "                     nesterov= True)\n",
        "\n",
        "loss_fn= nn.CrossEntropyLoss()\n",
        "metric= tm.text.Perplexity().to(device)\n",
        "model= model.to(device)"
      ],
      "metadata": {
        "id": "7nDxz27ZeBRO"
      },
      "execution_count": 40,
      "outputs": []
    },
    {
      "cell_type": "code",
      "source": [
        "key_file= os.path.join(project_path, 'key.txt')\n",
        "if os.path.exists(key_file):\n",
        "    with open(key_file) as f:\n",
        "        key= f.readline().strip()\n",
        "    wandb.login(key= key)\n",
        "else:\n",
        "    print(\"Key file does not exist. \",\n",
        "          \"Please create the key file with your wandb API key.\")"
      ],
      "metadata": {
        "id": "k-2CMy0b_2eT",
        "colab": {
          "base_uri": "https://localhost:8080/"
        },
        "outputId": "3e468a58-a0b3-45af-98f3-5e7642b831db"
      },
      "execution_count": 36,
      "outputs": [
        {
          "output_type": "stream",
          "name": "stderr",
          "text": [
            "\u001b[34m\u001b[1mwandb\u001b[0m: Using wandb-core as the SDK backend.  Please refer to https://wandb.me/wandb-core for more information.\n",
            "\u001b[34m\u001b[1mwandb\u001b[0m: \u001b[33mWARNING\u001b[0m If you're specifying your api key in code, ensure this code is not shared publicly.\n",
            "\u001b[34m\u001b[1mwandb\u001b[0m: \u001b[33mWARNING\u001b[0m Consider setting the WANDB_API_KEY environment variable, or running `wandb login` from the command line.\n",
            "\u001b[34m\u001b[1mwandb\u001b[0m: No netrc file found, creating one.\n",
            "\u001b[34m\u001b[1mwandb\u001b[0m: Appending key for api.wandb.ai to your netrc file: /root/.netrc\n",
            "\u001b[34m\u001b[1mwandb\u001b[0m: Currently logged in as: \u001b[33mamirhossien922\u001b[0m to \u001b[32mhttps://api.wandb.ai\u001b[0m. Use \u001b[1m`wandb login --relogin`\u001b[0m to force relogin\n"
          ]
        }
      ]
    },
    {
      "cell_type": "markdown",
      "source": [
        "-------------"
      ],
      "metadata": {
        "id": "PQFvAZWPhC4t"
      }
    },
    {
      "cell_type": "markdown",
      "source": [
        "# 11_One epoch fn"
      ],
      "metadata": {
        "id": "vavGH93Thdkk"
      }
    },
    {
      "cell_type": "code",
      "source": [
        "def train_one_epoch(model, train_loader, loss_fn, optimizer, metric, epoch= None):\n",
        "  model.train()\n",
        "  loss_train= AverageMeter()\n",
        "  metric.reset()\n",
        "\n",
        "  with tqdm.tqdm(train_loader, unit= 'batch') as tepoch:\n",
        "    for inputs, targets in tepoch:\n",
        "      if epoch:\n",
        "        tepoch.set_description(f'Epoch {epoch}')\n",
        "\n",
        "      inputs= inputs.t().to(device)\n",
        "      targets= targets.t().to(device)\n",
        "      outputs= model(inputs)\n",
        "      loss= loss_fn(outputs.reshape(-1, outputs.shape[-1]), targets.flatten())\n",
        "\n",
        "      loss.backward()\n",
        "      nn.utils.clip_grad.clip_grad_norm_(model.parameters(), max_norm= clip)\n",
        "      optimizer.step()\n",
        "      optimizer.zero_grad()\n",
        "\n",
        "      loss_train.update(loss.item(), n= len(targets))\n",
        "      metric.update(outputs, targets)\n",
        "      tepoch.set_postfix(loss= loss_train.avg, metric= metric.compute().item())\n",
        "\n",
        "  return model, loss_train.avg, metric.compute().item()"
      ],
      "metadata": {
        "id": "q3lZn38ehD3e"
      },
      "execution_count": 37,
      "outputs": []
    },
    {
      "cell_type": "code",
      "source": [
        "def evaluate(model, test_loader, loss_fn, metric):\n",
        "  model.eval()\n",
        "  loss_eval= AverageMeter()\n",
        "  metric.reset()\n",
        "\n",
        "  with torch.inference_mode():\n",
        "    for inputs, targets in test_loader:\n",
        "      inputs= inputs.t().to(device)\n",
        "      targets= targets.t().to(device)\n",
        "      outputs= model(inputs)\n",
        "\n",
        "      loss= loss_fn(outputs.reshape(-1, outputs.shape[-1]), targets.flatten())\n",
        "      loss_eval.update(loss.item(), n= len(targets))\n",
        "      metric(outputs, targets)\n",
        "\n",
        "  return loss_eval.avg, metric.compute().item()"
      ],
      "metadata": {
        "id": "GiGr0IYLnKM3"
      },
      "execution_count": 38,
      "outputs": []
    },
    {
      "cell_type": "markdown",
      "source": [
        "-------"
      ],
      "metadata": {
        "id": "s2NIXJewnkVg"
      }
    },
    {
      "cell_type": "markdown",
      "source": [
        "# 12_Experiments before the main training"
      ],
      "metadata": {
        "id": "_8N6vQuYnlLy"
      }
    },
    {
      "cell_type": "markdown",
      "source": [
        "## base metric"
      ],
      "metadata": {
        "id": "4n-i6LS9nomW"
      }
    },
    {
      "cell_type": "code",
      "source": [
        "if seed:\n",
        "  set_seed(seed)\n",
        "\n",
        "loss_base, metric_base= evaluate(model, test_loader, loss_fn, metric)\n",
        "print(f'{loss_base:.2f}, {metric_base:.2f}')"
      ],
      "metadata": {
        "colab": {
          "base_uri": "https://localhost:8080/"
        },
        "id": "RNgpA4GXnkzG",
        "outputId": "eb0a8e86-d501-4088-eb2d-a16cdb0ac56a"
      },
      "execution_count": 41,
      "outputs": [
        {
          "output_type": "stream",
          "name": "stdout",
          "text": [
            "10.27, 28862.24\n"
          ]
        }
      ]
    },
    {
      "cell_type": "markdown",
      "source": [
        "## overfit on subset of data"
      ],
      "metadata": {
        "id": "iwPjLPPPnsrO"
      }
    },
    {
      "cell_type": "code",
      "source": [
        "num_epochs= 5\n",
        "mini_train_size= 1000\n",
        "mini_batch_size= 20\n",
        "\n",
        "_, mini_train_dataset= random_split(train_set,\n",
        "                                   (len(train_set)- mini_train_size,\n",
        "                                    mini_train_size))\n",
        "mini_train_loader= DataLoader(mini_train_dataset, mini_batch_size)\n",
        "\n",
        "model= LanguageModel(vocab_size= len(vocab), embedding_dim= embedding_dim,\n",
        "                     hidden_dim= hidden_dim, num_layers= num_layers,\n",
        "                     dropoute= dropoute, dropouti= dropouti,\n",
        "                     dropouth= dropouth, dropouto= dropouto,\n",
        "                     weight_drop= weight_drop).to(device)\n",
        "optimizer= optim.SGD(model.parameters(), lr= lr, momentum= momentum)\n",
        "\n",
        "for i in range(num_epochs):\n",
        "  model, loss_overfit, metric_overfit= train_one_epoch(model, train_loader,\n",
        "                                                       loss_fn, optimizer,\n",
        "                                                       metric, epoch= i+1)"
      ],
      "metadata": {
        "colab": {
          "base_uri": "https://localhost:8080/",
          "height": 444
        },
        "id": "UPk8WnLMnvhi",
        "outputId": "1ec412c6-e9d4-498f-df80-bd5f288bd3ca"
      },
      "execution_count": 45,
      "outputs": [
        {
          "output_type": "stream",
          "name": "stderr",
          "text": [
            "Epoch 1: 100%|██████████| 367/367 [02:16<00:00,  2.70batch/s, loss=6.64, metric=763]\n",
            "Epoch 2: 100%|██████████| 367/367 [02:18<00:00,  2.64batch/s, loss=5.98, metric=394]\n",
            "Epoch 3: 100%|██████████| 367/367 [02:18<00:00,  2.65batch/s, loss=5.76, metric=317]\n",
            "Epoch 4:  11%|█         | 39/367 [00:15<02:07,  2.58batch/s, loss=5.65, metric=285]\n"
          ]
        },
        {
          "output_type": "error",
          "ename": "KeyboardInterrupt",
          "evalue": "",
          "traceback": [
            "\u001b[0;31m---------------------------------------------------------------------------\u001b[0m",
            "\u001b[0;31mKeyboardInterrupt\u001b[0m                         Traceback (most recent call last)",
            "\u001b[0;32m<ipython-input-45-b14e0fad2c27>\u001b[0m in \u001b[0;36m<cell line: 0>\u001b[0;34m()\u001b[0m\n\u001b[1;32m     16\u001b[0m \u001b[0;34m\u001b[0m\u001b[0m\n\u001b[1;32m     17\u001b[0m \u001b[0;32mfor\u001b[0m \u001b[0mi\u001b[0m \u001b[0;32min\u001b[0m \u001b[0mrange\u001b[0m\u001b[0;34m(\u001b[0m\u001b[0mnum_epochs\u001b[0m\u001b[0;34m)\u001b[0m\u001b[0;34m:\u001b[0m\u001b[0;34m\u001b[0m\u001b[0;34m\u001b[0m\u001b[0m\n\u001b[0;32m---> 18\u001b[0;31m   model, loss_overfit, metric_overfit= train_one_epoch(model, train_loader,\n\u001b[0m\u001b[1;32m     19\u001b[0m                                                        \u001b[0mloss_fn\u001b[0m\u001b[0;34m,\u001b[0m \u001b[0moptimizer\u001b[0m\u001b[0;34m,\u001b[0m\u001b[0;34m\u001b[0m\u001b[0;34m\u001b[0m\u001b[0m\n\u001b[1;32m     20\u001b[0m                                                        metric, epoch= i+1)\n",
            "\u001b[0;32m<ipython-input-37-317883fd4c95>\u001b[0m in \u001b[0;36mtrain_one_epoch\u001b[0;34m(model, train_loader, loss_fn, optimizer, metric, epoch)\u001b[0m\n\u001b[1;32m     19\u001b[0m       \u001b[0moptimizer\u001b[0m\u001b[0;34m.\u001b[0m\u001b[0mzero_grad\u001b[0m\u001b[0;34m(\u001b[0m\u001b[0;34m)\u001b[0m\u001b[0;34m\u001b[0m\u001b[0;34m\u001b[0m\u001b[0m\n\u001b[1;32m     20\u001b[0m \u001b[0;34m\u001b[0m\u001b[0m\n\u001b[0;32m---> 21\u001b[0;31m       \u001b[0mloss_train\u001b[0m\u001b[0;34m.\u001b[0m\u001b[0mupdate\u001b[0m\u001b[0;34m(\u001b[0m\u001b[0mloss\u001b[0m\u001b[0;34m.\u001b[0m\u001b[0mitem\u001b[0m\u001b[0;34m(\u001b[0m\u001b[0;34m)\u001b[0m\u001b[0;34m,\u001b[0m \u001b[0mn\u001b[0m\u001b[0;34m=\u001b[0m \u001b[0mlen\u001b[0m\u001b[0;34m(\u001b[0m\u001b[0mtargets\u001b[0m\u001b[0;34m)\u001b[0m\u001b[0;34m)\u001b[0m\u001b[0;34m\u001b[0m\u001b[0;34m\u001b[0m\u001b[0m\n\u001b[0m\u001b[1;32m     22\u001b[0m       \u001b[0mmetric\u001b[0m\u001b[0;34m.\u001b[0m\u001b[0mupdate\u001b[0m\u001b[0;34m(\u001b[0m\u001b[0moutputs\u001b[0m\u001b[0;34m,\u001b[0m \u001b[0mtargets\u001b[0m\u001b[0;34m)\u001b[0m\u001b[0;34m\u001b[0m\u001b[0;34m\u001b[0m\u001b[0m\n\u001b[1;32m     23\u001b[0m       \u001b[0mtepoch\u001b[0m\u001b[0;34m.\u001b[0m\u001b[0mset_postfix\u001b[0m\u001b[0;34m(\u001b[0m\u001b[0mloss\u001b[0m\u001b[0;34m=\u001b[0m \u001b[0mloss_train\u001b[0m\u001b[0;34m.\u001b[0m\u001b[0mavg\u001b[0m\u001b[0;34m,\u001b[0m \u001b[0mmetric\u001b[0m\u001b[0;34m=\u001b[0m \u001b[0mmetric\u001b[0m\u001b[0;34m.\u001b[0m\u001b[0mcompute\u001b[0m\u001b[0;34m(\u001b[0m\u001b[0;34m)\u001b[0m\u001b[0;34m.\u001b[0m\u001b[0mitem\u001b[0m\u001b[0;34m(\u001b[0m\u001b[0;34m)\u001b[0m\u001b[0;34m)\u001b[0m\u001b[0;34m\u001b[0m\u001b[0;34m\u001b[0m\u001b[0m\n",
            "\u001b[0;31mKeyboardInterrupt\u001b[0m: "
          ]
        }
      ]
    },
    {
      "cell_type": "markdown",
      "source": [
        "## grid search"
      ],
      "metadata": {
        "id": "66iZOMomnwIA"
      }
    },
    {
      "cell_type": "code",
      "source": [
        "if seed:\n",
        "  set_seed(seed)\n",
        "\n",
        "num_epochs= 1\n",
        "loss_grid= loss_base\n",
        "\n",
        "for lr in [30, 15, 10]:\n",
        "  print(f'LR={lr}')\n",
        "\n",
        "  model= LanguageModel(vocab_size= len(vocab), embedding_dim= embedding_dim,\n",
        "                       hidden_dim= hidden_dim, num_layers= num_layers,\n",
        "                       dropoute= dropoute, dropouti= dropouti,\n",
        "                       dropouth= dropouth, dropouto= dropouto,\n",
        "                       weight_drop= weight_drop).to(device)\n",
        "  model= torch.load(f'{project_path}awd_model.pt')\n",
        "  optimizer= optim.SGD(model.parameters(), lr= lr, weight_decay= wd, momentum= momentum)\n",
        "\n",
        "  for epoch in range(num_epochs):\n",
        "    model, loss, _= train_one_epoch(model, train_loader, loss_fn, optimizer, metric, epoch)\n",
        "  if loss< loss_grid:\n",
        "    best_lr= lr\n",
        "    loss_grid= loss\n",
        "    print(f'best loss is: {loss_grid} with lr: {best_lr}')\n",
        "  print()"
      ],
      "metadata": {
        "colab": {
          "base_uri": "https://localhost:8080/"
        },
        "id": "JtWrQc3hnyyf",
        "outputId": "20f4ee40-7e35-4097-eb33-be7190728ab1"
      },
      "execution_count": 93,
      "outputs": [
        {
          "output_type": "stream",
          "name": "stdout",
          "text": [
            "LR=30\n"
          ]
        },
        {
          "output_type": "stream",
          "name": "stderr",
          "text": [
            "100%|██████████| 367/367 [02:22<00:00,  2.57batch/s, loss=5.29, metric=198]\n"
          ]
        },
        {
          "output_type": "stream",
          "name": "stdout",
          "text": [
            "best loss is: 5.286926626834298 with lr: 30\n",
            "\n",
            "LR=15\n"
          ]
        },
        {
          "output_type": "stream",
          "name": "stderr",
          "text": [
            "100%|██████████| 367/367 [02:21<00:00,  2.60batch/s, loss=4.92, metric=137]\n"
          ]
        },
        {
          "output_type": "stream",
          "name": "stdout",
          "text": [
            "best loss is: 4.919775636709353 with lr: 15\n",
            "\n",
            "LR=10\n"
          ]
        },
        {
          "output_type": "stream",
          "name": "stderr",
          "text": [
            "100%|██████████| 367/367 [02:20<00:00,  2.60batch/s, loss=4.85, metric=127]"
          ]
        },
        {
          "output_type": "stream",
          "name": "stdout",
          "text": [
            "best loss is: 4.846718767358432 with lr: 10\n",
            "\n"
          ]
        },
        {
          "output_type": "stream",
          "name": "stderr",
          "text": [
            "\n"
          ]
        }
      ]
    },
    {
      "cell_type": "code",
      "source": [
        "if seed:\n",
        "  set_seed(seed)\n",
        "\n",
        "num_epochs= 2\n",
        "lr= best_lr\n",
        "for lr in [lr, lr+ 2, lr- 2]:\n",
        "  for wd in [1.2e-6]:\n",
        "    print(f'LR={lr}, WD={wd}')\n",
        "\n",
        "    model= LanguageModel(vocab_size= len(vocab), embedding_dim= embedding_dim,\n",
        "                         hidden_dim= hidden_dim, num_layers= num_layers,\n",
        "                         dropoute= dropoute, dropouti= dropouti,\n",
        "                         dropouth= dropouth, dropouto= dropouto,\n",
        "                         weight_drop= weight_drop).to(device)\n",
        "    model= torch.load(f'{project_path}awd_model.pt')\n",
        "    optimizer= optim.SGD(model.parameters(), lr= lr, weight_decay= wd, momentum= momentum)\n",
        "\n",
        "    for epoch in range(num_epochs):\n",
        "      model, _, _ = train_one_epoch(model, train_loader, loss_fn, optimizer, metric, epoch)\n",
        "      loss_valid, metric_valid= evaluate(model, valid_loader, loss_fn, metric)\n",
        "      print(f'Valid: Loss= {loss_valid:.4}, Metric= {metric_valid:.4}')\n",
        "    print()"
      ],
      "metadata": {
        "colab": {
          "base_uri": "https://localhost:8080/"
        },
        "id": "t0WCySbuwBDY",
        "outputId": "bd205400-94cc-42c7-df76-e9c1188c11d5"
      },
      "execution_count": 94,
      "outputs": [
        {
          "output_type": "stream",
          "name": "stdout",
          "text": [
            "LR=10, WD=1.2e-06\n"
          ]
        },
        {
          "output_type": "stream",
          "name": "stderr",
          "text": [
            "100%|██████████| 367/367 [02:21<00:00,  2.60batch/s, loss=4.84, metric=127]\n"
          ]
        },
        {
          "output_type": "stream",
          "name": "stdout",
          "text": [
            "Valid: Loss= 4.642, Metric= 104.9\n"
          ]
        },
        {
          "output_type": "stream",
          "name": "stderr",
          "text": [
            "Epoch 1: 100%|██████████| 367/367 [02:20<00:00,  2.60batch/s, loss=4.8, metric=121]\n"
          ]
        },
        {
          "output_type": "stream",
          "name": "stdout",
          "text": [
            "Valid: Loss= 4.632, Metric= 103.9\n",
            "\n",
            "LR=12, WD=1.2e-06\n"
          ]
        },
        {
          "output_type": "stream",
          "name": "stderr",
          "text": [
            "100%|██████████| 367/367 [02:21<00:00,  2.60batch/s, loss=4.88, metric=131]\n"
          ]
        },
        {
          "output_type": "stream",
          "name": "stdout",
          "text": [
            "Valid: Loss= 4.665, Metric= 107.3\n"
          ]
        },
        {
          "output_type": "stream",
          "name": "stderr",
          "text": [
            "Epoch 1: 100%|██████████| 367/367 [02:20<00:00,  2.60batch/s, loss=4.84, metric=127]\n"
          ]
        },
        {
          "output_type": "stream",
          "name": "stdout",
          "text": [
            "Valid: Loss= 4.651, Metric= 105.9\n",
            "\n",
            "LR=8, WD=1.2e-06\n"
          ]
        },
        {
          "output_type": "stream",
          "name": "stderr",
          "text": [
            "100%|██████████| 367/367 [02:21<00:00,  2.60batch/s, loss=4.82, metric=123]\n"
          ]
        },
        {
          "output_type": "stream",
          "name": "stdout",
          "text": [
            "Valid: Loss= 4.637, Metric= 104.5\n"
          ]
        },
        {
          "output_type": "stream",
          "name": "stderr",
          "text": [
            "Epoch 1: 100%|██████████| 367/367 [02:20<00:00,  2.60batch/s, loss=4.77, metric=118]\n"
          ]
        },
        {
          "output_type": "stream",
          "name": "stdout",
          "text": [
            "Valid: Loss= 4.603, Metric= 100.9\n",
            "\n"
          ]
        }
      ]
    },
    {
      "cell_type": "markdown",
      "source": [
        "---------"
      ],
      "metadata": {
        "id": "YHK9iAf3utps"
      }
    },
    {
      "cell_type": "markdown",
      "source": [
        "# 13_Training"
      ],
      "metadata": {
        "id": "h2dpeeVduu69"
      }
    },
    {
      "cell_type": "code",
      "source": [
        "if wandb_enable:\n",
        "  wandb.init(\n",
        "      project= 'LM-AWD-LSTM',\n",
        "      name=wandb_arg_name,\n",
        "      config={\n",
        "          'lr': lr,\n",
        "          'momentum': momentum,\n",
        "          'batch_size': batch_size,\n",
        "          'seq_len': seq_len,\n",
        "          'hidden_dim': hidden_dim,\n",
        "          'embedding_dim': embedding_dim,\n",
        "          'num_layers': num_layers,\n",
        "          'dropout_embed': dropoute,\n",
        "          'dropout_in_lstm': dropouti,\n",
        "          'dropout_h_lstm': dropouth,\n",
        "          'dropout_out_lstm': dropouto,\n",
        "          'clip': clip,\n",
        "      }\n",
        "  )"
      ],
      "metadata": {
        "id": "OErzQ6bJBGNg",
        "colab": {
          "base_uri": "https://localhost:8080/",
          "height": 105
        },
        "outputId": "820a58d3-6e18-4837-eb86-f9222b8b155d"
      },
      "execution_count": 80,
      "outputs": [
        {
          "output_type": "display_data",
          "data": {
            "text/plain": [
              "<IPython.core.display.HTML object>"
            ],
            "text/html": [
              "Tracking run with wandb version 0.19.8"
            ]
          },
          "metadata": {}
        },
        {
          "output_type": "display_data",
          "data": {
            "text/plain": [
              "<IPython.core.display.HTML object>"
            ],
            "text/html": [
              "Run data is saved locally in <code>/content/wandb/run-20250312_080721-wj6efmea</code>"
            ]
          },
          "metadata": {}
        },
        {
          "output_type": "display_data",
          "data": {
            "text/plain": [
              "<IPython.core.display.HTML object>"
            ],
            "text/html": [
              "Syncing run <strong><a href='https://wandb.ai/amirhossien922/LM-AWD-LSTM/runs/wj6efmea' target=\"_blank\">LM_AWD_LSTM_30</a></strong> to <a href='https://wandb.ai/amirhossien922/LM-AWD-LSTM' target=\"_blank\">Weights & Biases</a> (<a href='https://wandb.me/developer-guide' target=\"_blank\">docs</a>)<br>"
            ]
          },
          "metadata": {}
        },
        {
          "output_type": "display_data",
          "data": {
            "text/plain": [
              "<IPython.core.display.HTML object>"
            ],
            "text/html": [
              " View project at <a href='https://wandb.ai/amirhossien922/LM-AWD-LSTM' target=\"_blank\">https://wandb.ai/amirhossien922/LM-AWD-LSTM</a>"
            ]
          },
          "metadata": {}
        },
        {
          "output_type": "display_data",
          "data": {
            "text/plain": [
              "<IPython.core.display.HTML object>"
            ],
            "text/html": [
              " View run at <a href='https://wandb.ai/amirhossien922/LM-AWD-LSTM/runs/wj6efmea' target=\"_blank\">https://wandb.ai/amirhossien922/LM-AWD-LSTM/runs/wj6efmea</a>"
            ]
          },
          "metadata": {}
        }
      ]
    },
    {
      "cell_type": "code",
      "source": [
        "if seed:\n",
        "  set_seed(seed)\n",
        "\n",
        "loss_train_hist, loss_valid_hist= [], []\n",
        "metric_train_hist, metric_valid_hist= [], []\n",
        "best_loss_valid= torch.inf\n",
        "epoch_counter= 0\n",
        "\n",
        "model= LanguageModel(vocab_size= len(vocab), embedding_dim= embedding_dim,\n",
        "                     hidden_dim= hidden_dim, num_layers= num_layers,\n",
        "                     dropoute= dropoute, dropouti= dropouti,\n",
        "                     dropouth= dropouth, dropouto= dropouto,\n",
        "                     weight_drop= weight_drop).to(device)"
      ],
      "metadata": {
        "id": "ah_VLsE2uuR3"
      },
      "execution_count": 87,
      "outputs": []
    },
    {
      "cell_type": "code",
      "source": [
        "lr, wd= 15, 1.2e-06\n",
        "model= torch.load(f'{project_path}awd_model.pt')\n",
        "optimizer= optim.SGD(model.parameters(), lr= lr, weight_decay= wd, momentum= momentum)"
      ],
      "metadata": {
        "id": "NjT9kLrZDLUd"
      },
      "execution_count": 108,
      "outputs": []
    },
    {
      "cell_type": "code",
      "source": [
        "if seed:\n",
        "  set_seed(seed)\n",
        "\n",
        "num_epochs= 15\n",
        "for epoch in range(1, num_epochs+1):\n",
        "  model, loss_train, metric_train= train_one_epoch(model, train_loader,\n",
        "                                                   loss_fn, optimizer,\n",
        "                                                   metric, epoch)\n",
        "\n",
        "  loss_valid, metric_valid= evaluate(model, valid_loader,\n",
        "                                            loss_fn, metric)\n",
        "\n",
        "  loss_train_hist.append(loss_train)\n",
        "  loss_valid_hist.append(loss_valid)\n",
        "  metric_train_hist.append(metric_train)\n",
        "  metric_valid_hist.append(metric_valid)\n",
        "\n",
        "  if loss_valid < best_loss_valid:\n",
        "    torch.save(model, f'{project_path}awd_model.pt')\n",
        "    best_loss_valid= loss_valid\n",
        "    print('Model Saved!')\n",
        "\n",
        "  print(f'Valid: Loss= {loss_valid:.4}, Metric= {metric_valid:.4}')\n",
        "  print()\n",
        "\n",
        "  if wandb_enable:\n",
        "    wandb.log({\"metric_train\": metric_train, \"loss_train\": loss_train,\n",
        "               \"metric_valid\": metric_valid, \"loss_valid\": loss_valid})\n",
        "\n",
        "  epoch_counter += 1"
      ],
      "metadata": {
        "colab": {
          "base_uri": "https://localhost:8080/"
        },
        "id": "lM6c8lXiDiwz",
        "outputId": "455c70b6-a7b5-42b4-aaf7-583ba4da8a40"
      },
      "execution_count": 109,
      "outputs": [
        {
          "output_type": "stream",
          "name": "stderr",
          "text": [
            "Epoch 1: 100%|██████████| 367/367 [02:22<00:00,  2.58batch/s, loss=4.13, metric=62.7]\n"
          ]
        },
        {
          "output_type": "stream",
          "name": "stdout",
          "text": [
            "Valid: Loss= 4.724, Metric= 114.0\n",
            "\n"
          ]
        },
        {
          "output_type": "stream",
          "name": "stderr",
          "text": [
            "Epoch 2: 100%|██████████| 367/367 [02:20<00:00,  2.60batch/s, loss=4.44, metric=85.3]\n"
          ]
        },
        {
          "output_type": "stream",
          "name": "stdout",
          "text": [
            "Valid: Loss= 4.689, Metric= 110.2\n",
            "\n"
          ]
        }
      ]
    },
    {
      "cell_type": "code",
      "source": [
        "wandb.finish()\n",
        "torch.save(test_loader, f'{project_path}test_loader.pt')"
      ],
      "metadata": {
        "id": "Ltir956EUDuV",
        "colab": {
          "base_uri": "https://localhost:8080/",
          "height": 448
        },
        "outputId": "718247ac-7241-4ca4-e9d3-c95bcfb60170"
      },
      "execution_count": 110,
      "outputs": [
        {
          "output_type": "display_data",
          "data": {
            "text/plain": [
              "<IPython.core.display.HTML object>"
            ],
            "text/html": []
          },
          "metadata": {}
        },
        {
          "output_type": "display_data",
          "data": {
            "text/plain": [
              "<IPython.core.display.HTML object>"
            ],
            "text/html": [
              "<br>    <style><br>        .wandb-row {<br>            display: flex;<br>            flex-direction: row;<br>            flex-wrap: wrap;<br>            justify-content: flex-start;<br>            width: 100%;<br>        }<br>        .wandb-col {<br>            display: flex;<br>            flex-direction: column;<br>            flex-basis: 100%;<br>            flex: 1;<br>            padding: 10px;<br>        }<br>    </style><br><div class=\"wandb-row\"><div class=\"wandb-col\"><h3>Run history:</h3><br/><table class=\"wandb\"><tr><td>loss_train</td><td>█▆▆▅▅▅▅▅▄▄▄▄▄▄▄▄▄▄▄▄▄▄▄▄▄▃▃▃▃▃▂▂▂▂▁▁▂▁▁▃</td></tr><tr><td>loss_valid</td><td>█▆▅▄▄▃▃▃▂▂▂▂▂▂▂▂▂▂▂▂▁▂▂▁▂▁▁▁▁▁▁▁▁▁▁▂▁▂▁▁</td></tr><tr><td>metric_train</td><td>█▄▄▃▃▃▂▂▂▂▂▂▂▂▂▂▂▂▂▂▂▂▂▂▂▂▁▁▂▂▁▁▁▁▁▁▁▁▁▁</td></tr><tr><td>metric_valid</td><td>█▅▄▃▃▂▂▂▂▂▂▁▁▁▁▁▁▁▁▁▁▁▁▁▁▁▁▁▁▁▁▁▁▁▁▁▁▁▁▁</td></tr></table><br/></div><div class=\"wandb-col\"><h3>Run summary:</h3><br/><table class=\"wandb\"><tr><td>loss_train</td><td>4.44268</td></tr><tr><td>loss_valid</td><td>4.68917</td></tr><tr><td>metric_train</td><td>85.304</td></tr><tr><td>metric_valid</td><td>110.20056</td></tr></table><br/></div></div>"
            ]
          },
          "metadata": {}
        },
        {
          "output_type": "display_data",
          "data": {
            "text/plain": [
              "<IPython.core.display.HTML object>"
            ],
            "text/html": [
              " View run <strong style=\"color:#cdcd00\">LM_AWD_LSTM_30</strong> at: <a href='https://wandb.ai/amirhossien922/LM-AWD-LSTM/runs/wj6efmea' target=\"_blank\">https://wandb.ai/amirhossien922/LM-AWD-LSTM/runs/wj6efmea</a><br> View project at: <a href='https://wandb.ai/amirhossien922/LM-AWD-LSTM' target=\"_blank\">https://wandb.ai/amirhossien922/LM-AWD-LSTM</a><br>Synced 5 W&B file(s), 0 media file(s), 0 artifact file(s) and 0 other file(s)"
            ]
          },
          "metadata": {}
        },
        {
          "output_type": "display_data",
          "data": {
            "text/plain": [
              "<IPython.core.display.HTML object>"
            ],
            "text/html": [
              "Find logs at: <code>./wandb/run-20250312_080721-wj6efmea/logs</code>"
            ]
          },
          "metadata": {}
        }
      ]
    },
    {
      "cell_type": "markdown",
      "source": [
        "----------"
      ],
      "metadata": {
        "id": "WxlTQuzyMqyY"
      }
    },
    {
      "cell_type": "markdown",
      "source": [
        "# 14_Learning curve"
      ],
      "metadata": {
        "id": "uEoui4HMSe6s"
      }
    },
    {
      "cell_type": "code",
      "source": [
        "plt.figure(figsize=(8, 6))\n",
        "\n",
        "plt.plot(range(len(loss_train_hist)), loss_train_hist, 'k-', label='Train')\n",
        "plt.plot(range(len(loss_valid_hist)), loss_valid_hist, 'b-', label='Validation')\n",
        "\n",
        "plt.xlabel('Epoch')\n",
        "plt.ylabel('Cross entropy')\n",
        "plt.grid(True)\n",
        "plt.legend()"
      ],
      "metadata": {
        "colab": {
          "base_uri": "https://localhost:8080/",
          "height": 560
        },
        "id": "OMHTkd2eShq0",
        "outputId": "cd7558e5-1420-43c2-9e90-4985ab91a0be"
      },
      "execution_count": 111,
      "outputs": [
        {
          "output_type": "execute_result",
          "data": {
            "text/plain": [
              "<matplotlib.legend.Legend at 0x7e5d056a8ad0>"
            ]
          },
          "metadata": {},
          "execution_count": 111
        },
        {
          "output_type": "display_data",
          "data": {
            "text/plain": [
              "<Figure size 800x600 with 1 Axes>"
            ],
            "image/png": "[encoded data removed]"
          },
          "metadata": {}
        }
      ]
    },
    {
      "cell_type": "code",
      "source": [
        "plt.figure(figsize=(8, 6))\n",
        "\n",
        "plt.plot(range(len(metric_train_hist)), metric_train_hist, 'k-', label='Train')\n",
        "plt.plot(range(len(metric_valid_hist)), metric_valid_hist, 'b-', label='Validation')\n",
        "\n",
        "plt.xlabel('Epoch')\n",
        "plt.ylabel('Perplexity')\n",
        "plt.grid(True)\n",
        "plt.legend()"
      ],
      "metadata": {
        "colab": {
          "base_uri": "https://localhost:8080/",
          "height": 560
        },
        "id": "hDQKEw5_S6tR",
        "outputId": "ed97bcd0-e12e-4645-de01-fc501e4ce264"
      },
      "execution_count": 112,
      "outputs": [
        {
          "output_type": "execute_result",
          "data": {
            "text/plain": [
              "<matplotlib.legend.Legend at 0x7e5d052891d0>"
            ]
          },
          "metadata": {},
          "execution_count": 112
        },
        {
          "output_type": "display_data",
          "data": {
            "text/plain": [
              "<Figure size 800x600 with 1 Axes>"
            ],
            "image/png": "[encoded data removed]"
          },
          "metadata": {}
        }
      ]
    },
    {
      "cell_type": "markdown",
      "source": [
        "-------"
      ],
      "metadata": {
        "id": "ce5bgG6ASdne"
      }
    },
    {
      "cell_type": "markdown",
      "source": [
        "# 15_Test"
      ],
      "metadata": {
        "id": "nBbUE2h7Mr-h"
      }
    },
    {
      "cell_type": "code",
      "source": [
        "model= torch.load(f'{project_path}awd_model.pt')\n",
        "model.eval()\n",
        "with torch.no_grad():\n",
        "  loss_test, metric_test= evaluate(model, test_loader, loss_fn, metric)\n",
        "  print(f'Test: Loss= {loss_test:.1f}, Metric= {metric_test:.1f}')"
      ],
      "metadata": {
        "colab": {
          "base_uri": "https://localhost:8080/"
        },
        "id": "Ic9CI4qNMrmz",
        "outputId": "d0b01c66-6bc2-4c45-d759-de6cc9a27694"
      },
      "execution_count": 113,
      "outputs": [
        {
          "output_type": "stream",
          "name": "stdout",
          "text": [
            "Test: Loss= 4.6, Metric= 98.5\n"
          ]
        }
      ]
    },
    {
      "cell_type": "markdown",
      "source": [
        "------------"
      ],
      "metadata": {
        "id": "Dcky-9ygZL_w"
      }
    },
    {
      "cell_type": "markdown",
      "source": [
        "# 16_Text Generator"
      ],
      "metadata": {
        "id": "lMWP0jFTZM-U"
      }
    },
    {
      "cell_type": "code",
      "source": [
        "def generate(prompt, max_seq_len, model, tokenizer, vocab, temperature= 0.5):\n",
        "  indices= vocab(tokenizer(prompt))\n",
        "  itos= vocab.get_itos()\n",
        "\n",
        "  for i in range(max_seq_len):\n",
        "    with torch.no_grad():\n",
        "      prediction= model(torch.LongTensor(indices).to(device))\n",
        "\n",
        "    probs= torch.softmax(prediction[-1]/temperature, dim=0)\n",
        "\n",
        "    idx= vocab['<ukn>']\n",
        "    while idx == vocab['<ukn>']:\n",
        "      idx= torch.multinomial(probs, num_samples= 1).item()\n",
        "\n",
        "    token= itos[idx]\n",
        "    prompt +=' ' +token\n",
        "\n",
        "    if idx == vocab['.']:\n",
        "      return prompt\n",
        "\n",
        "    indices.append(idx)\n",
        "\n",
        "  return prompt"
      ],
      "metadata": {
        "id": "swuPJWORZ6GJ"
      },
      "execution_count": 114,
      "outputs": []
    },
    {
      "cell_type": "code",
      "source": [
        "prompt= 'In a galaxy far, far away, there'\n",
        "prompt= 'The sun was setting in the'\n",
        "prompt= 'Once upon a time, there lived a young princess named'\n",
        "prompt= 'What is the meaning '\n",
        "prompt= 'I\\'m not in danger, i am the'\n",
        "\n",
        "model= torch.load(f'{project_path}awd_model.pt')\n",
        "model.eval()\n",
        "\n",
        "generate(prompt, 35, model, tokenizer, vocab)"
      ],
      "metadata": {
        "colab": {
          "base_uri": "https://localhost:8080/",
          "height": 36
        },
        "id": "lSIe3YGgNkVu",
        "outputId": "ded44187-077b-459a-9e08-b502251ec457"
      },
      "execution_count": 115,
      "outputs": [
        {
          "output_type": "execute_result",
          "data": {
            "text/plain": [
              "\"I'm not in danger, i am the sole to do so .\""
            ],
            "application/vnd.google.colaboratory.intrinsic+json": {
              "type": "string"
            }
          },
          "metadata": {},
          "execution_count": 115
        }
      ]
    }
  ]
}