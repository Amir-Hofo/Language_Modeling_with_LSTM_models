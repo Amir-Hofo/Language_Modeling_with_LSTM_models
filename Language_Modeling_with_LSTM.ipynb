{
  "nbformat": 4,
  "nbformat_minor": 0,
  "metadata": {
    "colab": {
      "provenance": [],
      "collapsed_sections": [
        "HtIKd8KN2XiY",
        "MoBLDTKI2fXW",
        "Lnc9YmU42hUR",
        "vZcFxNTi2oOj",
        "BeJTWqyH3J1B",
        "06OiPswx3B9v",
        "q8cLwTlP3lBa",
        "s5T5dbViUxHq",
        "zJC_sPg_hryQ",
        "Ov7Ghjen3gXP",
        "q_mk4LRmLhSd",
        "te9PXAfXUDY8",
        "rDpB-qzUYCaB",
        "5BxOG5rlYg-P",
        "CvH6hhxzoWVx",
        "cvkG2n0d8mSM",
        "PXs9rkn08veU",
        "3cFcoJ6IGo6T",
        "3oU7tIYnJBcI",
        "vavGH93Thdkk",
        "_8N6vQuYnlLy",
        "4n-i6LS9nomW",
        "iwPjLPPPnsrO",
        "66iZOMomnwIA",
        "h2dpeeVduu69",
        "uEoui4HMSe6s",
        "nBbUE2h7Mr-h"
      ]
    },
    "kernelspec": {
      "name": "python3",
      "display_name": "Python 3"
    },
    "language_info": {
      "name": "python"
    }
  },
  "cells": [
    {
      "cell_type": "markdown",
      "source": [
        "# 01_Library"
      ],
      "metadata": {
        "id": "HtIKd8KN2XiY"
      }
    },
    {
      "cell_type": "markdown",
      "source": [
        "## install"
      ],
      "metadata": {
        "id": "MoBLDTKI2fXW"
      }
    },
    {
      "cell_type": "code",
      "execution_count": 1,
      "metadata": {
        "collapsed": true,
        "id": "PCFVyCEe2PVW",
        "colab": {
          "base_uri": "https://localhost:8080/"
        },
        "outputId": "3c447ca5-409b-4a71-c76b-dae39db5d9dd"
      },
      "outputs": [
        {
          "output_type": "stream",
          "name": "stdout",
          "text": [
            "\u001b[2K   \u001b[90m━━━━━━━━━━━━━━━━━━━━━━━━━━━━━━━━━━━━━━━━\u001b[0m \u001b[32m2.0/2.0 MB\u001b[0m \u001b[31m23.3 MB/s\u001b[0m eta \u001b[36m0:00:00\u001b[0m\n",
            "\u001b[2K   \u001b[90m━━━━━━━━━━━━━━━━━━━━━━━━━━━━━━━━━━━━━━━━\u001b[0m \u001b[32m755.5/755.5 MB\u001b[0m \u001b[31m1.7 MB/s\u001b[0m eta \u001b[36m0:00:00\u001b[0m\n",
            "\u001b[2K   \u001b[90m━━━━━━━━━━━━━━━━━━━━━━━━━━━━━━━━━━━━━━━━\u001b[0m \u001b[32m4.7/4.7 MB\u001b[0m \u001b[31m14.2 MB/s\u001b[0m eta \u001b[36m0:00:00\u001b[0m\n",
            "\u001b[2K   \u001b[90m━━━━━━━━━━━━━━━━━━━━━━━━━━━━━━━━━━━━━━━━\u001b[0m \u001b[32m410.6/410.6 MB\u001b[0m \u001b[31m3.5 MB/s\u001b[0m eta \u001b[36m0:00:00\u001b[0m\n",
            "\u001b[2K   \u001b[90m━━━━━━━━━━━━━━━━━━━━━━━━━━━━━━━━━━━━━━━━\u001b[0m \u001b[32m14.1/14.1 MB\u001b[0m \u001b[31m90.6 MB/s\u001b[0m eta \u001b[36m0:00:00\u001b[0m\n",
            "\u001b[2K   \u001b[90m━━━━━━━━━━━━━━━━━━━━━━━━━━━━━━━━━━━━━━━━\u001b[0m \u001b[32m23.7/23.7 MB\u001b[0m \u001b[31m74.7 MB/s\u001b[0m eta \u001b[36m0:00:00\u001b[0m\n",
            "\u001b[2K   \u001b[90m━━━━━━━━━━━━━━━━━━━━━━━━━━━━━━━━━━━━━━━━\u001b[0m \u001b[32m823.6/823.6 kB\u001b[0m \u001b[31m43.8 MB/s\u001b[0m eta \u001b[36m0:00:00\u001b[0m\n",
            "\u001b[2K   \u001b[90m━━━━━━━━━━━━━━━━━━━━━━━━━━━━━━━━━━━━━━━━\u001b[0m \u001b[32m731.7/731.7 MB\u001b[0m \u001b[31m1.6 MB/s\u001b[0m eta \u001b[36m0:00:00\u001b[0m\n",
            "\u001b[2K   \u001b[90m━━━━━━━━━━━━━━━━━━━━━━━━━━━━━━━━━━━━━━━━\u001b[0m \u001b[32m121.6/121.6 MB\u001b[0m \u001b[31m8.0 MB/s\u001b[0m eta \u001b[36m0:00:00\u001b[0m\n",
            "\u001b[2K   \u001b[90m━━━━━━━━━━━━━━━━━━━━━━━━━━━━━━━━━━━━━━━━\u001b[0m \u001b[32m56.5/56.5 MB\u001b[0m \u001b[31m12.7 MB/s\u001b[0m eta \u001b[36m0:00:00\u001b[0m\n",
            "\u001b[2K   \u001b[90m━━━━━━━━━━━━━━━━━━━━━━━━━━━━━━━━━━━━━━━━\u001b[0m \u001b[32m124.2/124.2 MB\u001b[0m \u001b[31m7.5 MB/s\u001b[0m eta \u001b[36m0:00:00\u001b[0m\n",
            "\u001b[2K   \u001b[90m━━━━━━━━━━━━━━━━━━━━━━━━━━━━━━━━━━━━━━━━\u001b[0m \u001b[32m196.0/196.0 MB\u001b[0m \u001b[31m6.6 MB/s\u001b[0m eta \u001b[36m0:00:00\u001b[0m\n",
            "\u001b[2K   \u001b[90m━━━━━━━━━━━━━━━━━━━━━━━━━━━━━━━━━━━━━━━━\u001b[0m \u001b[32m166.0/166.0 MB\u001b[0m \u001b[31m6.3 MB/s\u001b[0m eta \u001b[36m0:00:00\u001b[0m\n",
            "\u001b[2K   \u001b[90m━━━━━━━━━━━━━━━━━━━━━━━━━━━━━━━━━━━━━━━━\u001b[0m \u001b[32m99.1/99.1 kB\u001b[0m \u001b[31m6.2 MB/s\u001b[0m eta \u001b[36m0:00:00\u001b[0m\n",
            "\u001b[2K   \u001b[90m━━━━━━━━━━━━━━━━━━━━━━━━━━━━━━━━━━━━━━━━\u001b[0m \u001b[32m167.9/167.9 MB\u001b[0m \u001b[31m8.2 MB/s\u001b[0m eta \u001b[36m0:00:00\u001b[0m\n",
            "\u001b[?25h\u001b[31mERROR: pip's dependency resolver does not currently take into account all the packages that are installed. This behaviour is the source of the following dependency conflicts.\n",
            "torchvision 0.21.0+cu124 requires torch==2.6.0, but you have torch 2.2.0 which is incompatible.\n",
            "torchaudio 2.6.0+cu124 requires torch==2.6.0, but you have torch 2.2.0 which is incompatible.\u001b[0m\u001b[31m\n",
            "\u001b[0mCollecting torchmetrics\n",
            "  Downloading torchmetrics-1.6.3-py3-none-any.whl.metadata (20 kB)\n",
            "Requirement already satisfied: tqdm in /usr/local/lib/python3.11/dist-packages (4.67.1)\n",
            "Requirement already satisfied: numpy>1.20.0 in /usr/local/lib/python3.11/dist-packages (from torchmetrics) (1.26.4)\n",
            "Requirement already satisfied: packaging>17.1 in /usr/local/lib/python3.11/dist-packages (from torchmetrics) (24.2)\n",
            "Requirement already satisfied: torch>=2.0.0 in /usr/local/lib/python3.11/dist-packages (from torchmetrics) (2.2.0)\n",
            "Collecting lightning-utilities>=0.8.0 (from torchmetrics)\n",
            "  Downloading lightning_utilities-0.14.0-py3-none-any.whl.metadata (5.6 kB)\n",
            "Requirement already satisfied: setuptools in /usr/local/lib/python3.11/dist-packages (from lightning-utilities>=0.8.0->torchmetrics) (75.1.0)\n",
            "Requirement already satisfied: typing_extensions in /usr/local/lib/python3.11/dist-packages (from lightning-utilities>=0.8.0->torchmetrics) (4.12.2)\n",
            "Requirement already satisfied: filelock in /usr/local/lib/python3.11/dist-packages (from torch>=2.0.0->torchmetrics) (3.17.0)\n",
            "Requirement already satisfied: sympy in /usr/local/lib/python3.11/dist-packages (from torch>=2.0.0->torchmetrics) (1.13.1)\n",
            "Requirement already satisfied: networkx in /usr/local/lib/python3.11/dist-packages (from torch>=2.0.0->torchmetrics) (3.4.2)\n",
            "Requirement already satisfied: jinja2 in /usr/local/lib/python3.11/dist-packages (from torch>=2.0.0->torchmetrics) (3.1.6)\n",
            "Requirement already satisfied: fsspec in /usr/local/lib/python3.11/dist-packages (from torch>=2.0.0->torchmetrics) (2024.10.0)\n",
            "Requirement already satisfied: nvidia-cuda-nvrtc-cu12==12.1.105 in /usr/local/lib/python3.11/dist-packages (from torch>=2.0.0->torchmetrics) (12.1.105)\n",
            "Requirement already satisfied: nvidia-cuda-runtime-cu12==12.1.105 in /usr/local/lib/python3.11/dist-packages (from torch>=2.0.0->torchmetrics) (12.1.105)\n",
            "Requirement already satisfied: nvidia-cuda-cupti-cu12==12.1.105 in /usr/local/lib/python3.11/dist-packages (from torch>=2.0.0->torchmetrics) (12.1.105)\n",
            "Requirement already satisfied: nvidia-cudnn-cu12==8.9.2.26 in /usr/local/lib/python3.11/dist-packages (from torch>=2.0.0->torchmetrics) (8.9.2.26)\n",
            "Requirement already satisfied: nvidia-cublas-cu12==12.1.3.1 in /usr/local/lib/python3.11/dist-packages (from torch>=2.0.0->torchmetrics) (12.1.3.1)\n",
            "Requirement already satisfied: nvidia-cufft-cu12==11.0.2.54 in /usr/local/lib/python3.11/dist-packages (from torch>=2.0.0->torchmetrics) (11.0.2.54)\n",
            "Requirement already satisfied: nvidia-curand-cu12==10.3.2.106 in /usr/local/lib/python3.11/dist-packages (from torch>=2.0.0->torchmetrics) (10.3.2.106)\n",
            "Requirement already satisfied: nvidia-cusolver-cu12==11.4.5.107 in /usr/local/lib/python3.11/dist-packages (from torch>=2.0.0->torchmetrics) (11.4.5.107)\n",
            "Requirement already satisfied: nvidia-cusparse-cu12==12.1.0.106 in /usr/local/lib/python3.11/dist-packages (from torch>=2.0.0->torchmetrics) (12.1.0.106)\n",
            "Requirement already satisfied: nvidia-nccl-cu12==2.19.3 in /usr/local/lib/python3.11/dist-packages (from torch>=2.0.0->torchmetrics) (2.19.3)\n",
            "Requirement already satisfied: nvidia-nvtx-cu12==12.1.105 in /usr/local/lib/python3.11/dist-packages (from torch>=2.0.0->torchmetrics) (12.1.105)\n",
            "Requirement already satisfied: triton==2.2.0 in /usr/local/lib/python3.11/dist-packages (from torch>=2.0.0->torchmetrics) (2.2.0)\n",
            "Requirement already satisfied: nvidia-nvjitlink-cu12 in /usr/local/lib/python3.11/dist-packages (from nvidia-cusolver-cu12==11.4.5.107->torch>=2.0.0->torchmetrics) (12.5.82)\n",
            "Requirement already satisfied: MarkupSafe>=2.0 in /usr/local/lib/python3.11/dist-packages (from jinja2->torch>=2.0.0->torchmetrics) (3.0.2)\n",
            "Requirement already satisfied: mpmath<1.4,>=1.1.0 in /usr/local/lib/python3.11/dist-packages (from sympy->torch>=2.0.0->torchmetrics) (1.3.0)\n",
            "Downloading torchmetrics-1.6.3-py3-none-any.whl (931 kB)\n",
            "\u001b[2K   \u001b[90m━━━━━━━━━━━━━━━━━━━━━━━━━━━━━━━━━━━━━━━━\u001b[0m \u001b[32m931.7/931.7 kB\u001b[0m \u001b[31m12.3 MB/s\u001b[0m eta \u001b[36m0:00:00\u001b[0m\n",
            "\u001b[?25hDownloading lightning_utilities-0.14.0-py3-none-any.whl (28 kB)\n",
            "Installing collected packages: lightning-utilities, torchmetrics\n",
            "Successfully installed lightning-utilities-0.14.0 torchmetrics-1.6.3\n"
          ]
        }
      ],
      "source": [
        "try:\n",
        "    import torchtext\n",
        "except ImportError:\n",
        "    ! pip install -q torchtext==0.17.0\n",
        "    import torchtext\n",
        "! pip install torchmetrics tqdm"
      ]
    },
    {
      "cell_type": "markdown",
      "source": [
        "## import"
      ],
      "metadata": {
        "id": "Lnc9YmU42hUR"
      }
    },
    {
      "cell_type": "code",
      "source": [
        "import os\n",
        "from collections import Counter\n",
        "import torchmetrics as tm\n",
        "import tqdm\n",
        "import matplotlib.pyplot as plt\n",
        "\n",
        "import torch\n",
        "import torch.nn as nn\n",
        "from torch import optim\n",
        "from torch.utils.data import DataLoader, Dataset, random_split\n",
        "\n",
        "from torchtext.data.utils import get_tokenizer\n",
        "from torchtext.vocab import build_vocab_from_iterator"
      ],
      "metadata": {
        "id": "c1IQIhZI2lSk"
      },
      "execution_count": 2,
      "outputs": []
    },
    {
      "cell_type": "markdown",
      "source": [
        "----------"
      ],
      "metadata": {
        "id": "Oe4RFU5r2nAk"
      }
    },
    {
      "cell_type": "markdown",
      "source": [
        "# 02_Utils"
      ],
      "metadata": {
        "id": "vZcFxNTi2oOj"
      }
    },
    {
      "cell_type": "markdown",
      "source": [
        "## system"
      ],
      "metadata": {
        "id": "BeJTWqyH3J1B"
      }
    },
    {
      "cell_type": "code",
      "source": [
        "system= \"colab\"\n",
        "\n",
        "if system== \"local\":\n",
        "    project_path= r\"./\"\n",
        "    dataset_path= './wikitext-2/'\n",
        "\n",
        "elif system== \"colab\":\n",
        "    root_path= '/content/'\n",
        "    project_path= r\"/content/drive/MyDrive/Catalist/1_language modeling/\"\n",
        "    dataset_path= os.path.join(project_path, r'dataset/wikitext-2/')\n",
        "\n",
        "else:\n",
        "  raise ValueError(\"Invalid system\")\n"
      ],
      "metadata": {
        "id": "g9WyhGuE3Fpl"
      },
      "execution_count": 3,
      "outputs": []
    },
    {
      "cell_type": "markdown",
      "source": [
        "## device"
      ],
      "metadata": {
        "id": "06OiPswx3B9v"
      }
    },
    {
      "cell_type": "code",
      "source": [
        "device= 'cuda' if torch.cuda.is_available() else 'cpu'\n",
        "device"
      ],
      "metadata": {
        "colab": {
          "base_uri": "https://localhost:8080/",
          "height": 111
        },
        "id": "SLtfbFUe2nrb",
        "outputId": "d0c1c241-74ed-4831-a20f-b246f2c42b69"
      },
      "execution_count": 4,
      "outputs": [
        {
          "output_type": "execute_result",
          "data": {
            "text/plain": [
              "'cpu'"
            ],
            "application/vnd.google.colaboratory.intrinsic+json": {
              "type": "string"
            }
          },
          "metadata": {},
          "execution_count": 4
        }
      ]
    },
    {
      "cell_type": "markdown",
      "source": [
        "## drive mount"
      ],
      "metadata": {
        "id": "q8cLwTlP3lBa"
      }
    },
    {
      "cell_type": "code",
      "source": [
        "if system== \"colab\":\n",
        "    from google.colab import drive\n",
        "    drive.mount('/content/drive')"
      ],
      "metadata": {
        "id": "-aLyPQ7I3nid",
        "colab": {
          "base_uri": "https://localhost:8080/"
        },
        "outputId": "15cf6028-edd6-4d5d-e3a4-b6e3b2406fad"
      },
      "execution_count": 5,
      "outputs": [
        {
          "output_type": "stream",
          "name": "stdout",
          "text": [
            "Mounted at /content/drive\n"
          ]
        }
      ]
    },
    {
      "cell_type": "markdown",
      "source": [
        "## number of params fn"
      ],
      "metadata": {
        "id": "s5T5dbViUxHq"
      }
    },
    {
      "cell_type": "code",
      "source": [
        "def num_trainable_params(model):\n",
        "  nums= sum(p.numel() for p in model.parameters() if p.requires_grad)/1e6\n",
        "  return nums"
      ],
      "metadata": {
        "id": "MkO-Zv1cUw0J"
      },
      "execution_count": 6,
      "outputs": []
    },
    {
      "cell_type": "markdown",
      "source": [
        "## avragemeter"
      ],
      "metadata": {
        "id": "zJC_sPg_hryQ"
      }
    },
    {
      "cell_type": "code",
      "source": [
        "class AverageMeter(object):\n",
        "    \"\"\"Computes and stores the average and current value\"\"\"\n",
        "    def __init__(self):\n",
        "        self.reset()\n",
        "\n",
        "    def reset(self):\n",
        "        self.val = 0\n",
        "        self.avg = 0\n",
        "        self.sum = 0\n",
        "        self.count = 0\n",
        "\n",
        "    def update(self, val, n=1):\n",
        "        self.val = val\n",
        "        self.sum += val * n\n",
        "        self.count += n\n",
        "        self.avg = self.sum / self.count"
      ],
      "metadata": {
        "id": "JsTSPNUDhuXg"
      },
      "execution_count": 7,
      "outputs": []
    },
    {
      "cell_type": "markdown",
      "source": [
        "--------"
      ],
      "metadata": {
        "id": "gZDO-FBI3d8Z"
      }
    },
    {
      "cell_type": "markdown",
      "source": [
        "# 03_Data"
      ],
      "metadata": {
        "id": "Ov7Ghjen3gXP"
      }
    },
    {
      "cell_type": "code",
      "source": [
        "class WikiTextDataset:\n",
        "    def __init__(self, file_path):\n",
        "        self.file_path= file_path\n",
        "\n",
        "    def __iter__(self):\n",
        "        with open(self.file_path, 'r', encoding= 'utf-8') as f:\n",
        "            for line in f:\n",
        "                yield line.strip()\n",
        "\n",
        "train_iter= WikiTextDataset(os.path.join(dataset_path, \"wiki.train.tokens\"))\n",
        "valid_iter= WikiTextDataset(os.path.join(dataset_path, \"wiki.valid.tokens\"))\n",
        "test_iter= WikiTextDataset(os.path.join(dataset_path, \"wiki.test.tokens\"))\n",
        "\n",
        "train_iter_= iter(train_iter)\n",
        "print(next(train_iter_))\n",
        "print(next(train_iter_))"
      ],
      "metadata": {
        "id": "ETPirO6Gzmjq",
        "colab": {
          "base_uri": "https://localhost:8080/"
        },
        "outputId": "57f0d3bf-7fe0-4938-a22c-8859a7287710"
      },
      "execution_count": 8,
      "outputs": [
        {
          "output_type": "stream",
          "name": "stdout",
          "text": [
            "\n",
            "= Valkyria Chronicles III =\n"
          ]
        }
      ]
    },
    {
      "cell_type": "markdown",
      "source": [
        "-------"
      ],
      "metadata": {
        "id": "O32h15BVZI1z"
      }
    },
    {
      "cell_type": "markdown",
      "source": [
        "# 04_Tokenize & Vocab"
      ],
      "metadata": {
        "id": "q_mk4LRmLhSd"
      }
    },
    {
      "cell_type": "code",
      "source": [
        "tokenizer= get_tokenizer('basic_english')\n",
        "vocab= build_vocab_from_iterator(map(tokenizer, train_iter), specials=['<unk>'])\n",
        "vocab.set_default_index(vocab['<unk>'])\n",
        "torch.save(vocab, 'vocab.pt')\n",
        "vocab(['amir', 'hi', 'rookie', 'fouladi'])"
      ],
      "metadata": {
        "colab": {
          "base_uri": "https://localhost:8080/"
        },
        "id": "mHCDaYnFLHn1",
        "outputId": "91b27dfc-0a65-4157-d077-ad15e2d3ce55"
      },
      "execution_count": 9,
      "outputs": [
        {
          "output_type": "execute_result",
          "data": {
            "text/plain": [
              "[0, 9206, 6358, 0]"
            ]
          },
          "metadata": {},
          "execution_count": 9
        }
      ]
    },
    {
      "cell_type": "markdown",
      "source": [
        "-----"
      ],
      "metadata": {
        "id": "0sWtrAOYZKrw"
      }
    },
    {
      "cell_type": "markdown",
      "source": [
        "# 05_EDA"
      ],
      "metadata": {
        "id": "te9PXAfXUDY8"
      }
    },
    {
      "cell_type": "markdown",
      "source": [
        "## mean sentence length"
      ],
      "metadata": {
        "id": "rDpB-qzUYCaB"
      }
    },
    {
      "cell_type": "code",
      "source": [
        "total_sentence_count= 0\n",
        "total_sentence_length= 0\n",
        "\n",
        "for line in train_iter:\n",
        "    sentences= line.split('.')\n",
        "\n",
        "    for sentence in sentences:\n",
        "        tokens= sentence.strip().split()\n",
        "        sentence_length= len(tokens)\n",
        "\n",
        "        if sentence_length >0:\n",
        "            total_sentence_count +=1\n",
        "            total_sentence_length +=sentence_length\n",
        "\n",
        "mean_sentence_length= total_sentence_length/ total_sentence_count\n",
        "\n",
        "print(f'Mean sentence length in Wikitext-2: {mean_sentence_length:.2f}')"
      ],
      "metadata": {
        "colab": {
          "base_uri": "https://localhost:8080/"
        },
        "id": "Xa1scqHtUB0C",
        "outputId": "6bd463bd-addd-487e-b3a6-e56c6f2ff3b4"
      },
      "execution_count": 10,
      "outputs": [
        {
          "output_type": "stream",
          "name": "stdout",
          "text": [
            "Mean sentence length in Wikitext-2: 21.69\n"
          ]
        }
      ]
    },
    {
      "cell_type": "markdown",
      "source": [
        "## most common and least common words"
      ],
      "metadata": {
        "id": "5BxOG5rlYg-P"
      }
    },
    {
      "cell_type": "code",
      "source": [
        "freqs= Counter()\n",
        "for tokens in map(tokenizer, train_iter):\n",
        "  freqs.update(tokens)"
      ],
      "metadata": {
        "id": "D141M3LKYfT4"
      },
      "execution_count": 11,
      "outputs": []
    },
    {
      "cell_type": "code",
      "source": [
        "freqs.most_common()[:20]"
      ],
      "metadata": {
        "colab": {
          "base_uri": "https://localhost:8080/"
        },
        "collapsed": true,
        "id": "kMGqTQq_ZP5W",
        "outputId": "c1f865f7-91ed-4a95-9681-f5df2560903c"
      },
      "execution_count": 12,
      "outputs": [
        {
          "output_type": "execute_result",
          "data": {
            "text/plain": [
              "[('the', 130768),\n",
              " (',', 102615),\n",
              " ('.', 83397),\n",
              " ('of', 57030),\n",
              " ('<unk>', 54625),\n",
              " ('and', 50735),\n",
              " ('in', 45015),\n",
              " ('to', 39521),\n",
              " ('a', 36523),\n",
              " ('=', 29570),\n",
              " ('was', 21008),\n",
              " (\"'\", 18484),\n",
              " ('@-@', 16906),\n",
              " ('on', 15140),\n",
              " ('as', 15058),\n",
              " ('s', 14936),\n",
              " ('that', 14351),\n",
              " ('for', 13794),\n",
              " ('with', 13012),\n",
              " ('by', 12718)]"
            ]
          },
          "metadata": {},
          "execution_count": 12
        }
      ]
    },
    {
      "cell_type": "code",
      "source": [
        "freqs.most_common()[-20:]"
      ],
      "metadata": {
        "colab": {
          "base_uri": "https://localhost:8080/"
        },
        "collapsed": true,
        "id": "u_2iH4btZQV_",
        "outputId": "52b250ea-a780-4db3-c457-806fa7f799bb"
      },
      "execution_count": 13,
      "outputs": [
        {
          "output_type": "execute_result",
          "data": {
            "text/plain": [
              "[('yellowwoods', 3),\n",
              " ('tomentum', 3),\n",
              " ('secretion', 3),\n",
              " ('spruces', 3),\n",
              " ('lewenthal', 3),\n",
              " ('caprices', 3),\n",
              " ('étude', 3),\n",
              " ('mineurs', 3),\n",
              " ('sonatine', 3),\n",
              " ('chants', 3),\n",
              " ('philipp', 3),\n",
              " ('prefaced', 3),\n",
              " ('kreutzer', 3),\n",
              " ('forrester', 3),\n",
              " ('zoromski', 3),\n",
              " ('roundabouts', 3),\n",
              " ('tuscola', 3),\n",
              " ('northeasterly', 3),\n",
              " ('intergrades', 3),\n",
              " ('gallinae', 3)]"
            ]
          },
          "metadata": {},
          "execution_count": 13
        }
      ]
    },
    {
      "cell_type": "markdown",
      "source": [
        "-------"
      ],
      "metadata": {
        "id": "C1HVbxUIZMV4"
      }
    },
    {
      "cell_type": "markdown",
      "source": [
        "# 06_Preprocessing"
      ],
      "metadata": {
        "id": "CvH6hhxzoWVx"
      }
    },
    {
      "cell_type": "code",
      "source": [
        "def data_process(raw_text_iter, seq_len):\n",
        "  data= torch.cat([torch.LongTensor(vocab(tokenizer(line))) for line in raw_text_iter])\n",
        "  M, r= len(data) // seq_len, len(data) % seq_len\n",
        "  data= torch.cat((data, torch.LongTensor([0]))) if r==0 else data\n",
        "\n",
        "  inputs= data[:M* seq_len].reshape(-1, seq_len)\n",
        "  targets= data[1: M*seq_len +1].reshape(-1, seq_len)\n",
        "\n",
        "  return inputs, targets"
      ],
      "metadata": {
        "id": "I-tMEf99ZM6_"
      },
      "execution_count": 14,
      "outputs": []
    },
    {
      "cell_type": "code",
      "source": [
        "seq_len= 35\n",
        "x_train, y_train= data_process(train_iter, seq_len)\n",
        "x_valid, y_valid= data_process(valid_iter, seq_len)\n",
        "x_test, y_test= data_process(test_iter, seq_len)\n",
        "\n",
        "x_train.shape, y_train.shape, x_valid.shape, y_valid.shape, x_test.shape, y_test.shape"
      ],
      "metadata": {
        "colab": {
          "base_uri": "https://localhost:8080/"
        },
        "id": "l6xi-nQ-pUAo",
        "outputId": "c25970aa-26d1-4822-ca8f-04ebd9bfbbdd"
      },
      "execution_count": 15,
      "outputs": [
        {
          "output_type": "execute_result",
          "data": {
            "text/plain": [
              "(torch.Size([58571, 35]),\n",
              " torch.Size([58571, 35]),\n",
              " torch.Size([6126, 35]),\n",
              " torch.Size([6126, 35]),\n",
              " torch.Size([6910, 35]),\n",
              " torch.Size([6910, 35]))"
            ]
          },
          "metadata": {},
          "execution_count": 15
        }
      ]
    },
    {
      "cell_type": "markdown",
      "source": [
        "-------"
      ],
      "metadata": {
        "id": "tBxmZamf8q0O"
      }
    },
    {
      "cell_type": "markdown",
      "source": [
        "# 07_Custom Dataset"
      ],
      "metadata": {
        "id": "cvkG2n0d8mSM"
      }
    },
    {
      "cell_type": "code",
      "source": [
        "class CustomDataset(Dataset):\n",
        "\n",
        "  def __init__(self, inputs, targets):\n",
        "    self.inputs= inputs\n",
        "    self.targets= targets\n",
        "\n",
        "  def __len__(self):\n",
        "    return self.inputs.shape[0]\n",
        "\n",
        "  def __getitem__(self, idx):\n",
        "    return self.inputs[idx], self.targets[idx]"
      ],
      "metadata": {
        "id": "obgQq8r371I5"
      },
      "execution_count": 16,
      "outputs": []
    },
    {
      "cell_type": "code",
      "source": [
        "train_set= CustomDataset(x_train, y_train)\n",
        "valid_set= CustomDataset(x_valid, y_valid)\n",
        "test_set= CustomDataset(x_test, y_test)"
      ],
      "metadata": {
        "id": "oK8hRvjQ717_"
      },
      "execution_count": 17,
      "outputs": []
    },
    {
      "cell_type": "markdown",
      "source": [
        "--------"
      ],
      "metadata": {
        "id": "VcoLcApb84tz"
      }
    },
    {
      "cell_type": "markdown",
      "source": [
        "# 08_DataLoader"
      ],
      "metadata": {
        "id": "PXs9rkn08veU"
      }
    },
    {
      "cell_type": "code",
      "source": [
        "batch_size= 20\n",
        "train_loader= DataLoader(train_set, batch_size= batch_size, shuffle= True)\n",
        "valid_loader= DataLoader(valid_set, batch_size= 2*batch_size, shuffle= False)\n",
        "test_loader= DataLoader(test_set, batch_size= 2*batch_size, shuffle= False)\n",
        "\n",
        "print(\"train batch size:\",train_loader.batch_size,\n",
        "     \", num of batch:\", len(train_loader))\n",
        "print(\"valid batch size:\",valid_loader.batch_size,\n",
        "     \", num of batch:\", len(valid_loader))\n",
        "print(\"test batch size:\",test_loader.batch_size,\n",
        "     \", num of batch:\", len(test_loader))"
      ],
      "metadata": {
        "id": "iWuf1Dw-8dTp",
        "colab": {
          "base_uri": "https://localhost:8080/"
        },
        "outputId": "7a5f0172-a44a-41f2-d052-466403056d99"
      },
      "execution_count": null,
      "outputs": [
        {
          "output_type": "stream",
          "name": "stdout",
          "text": [
            "train batch size: 20 , num of batch: 2929\n",
            "valid batch size: 40 , num of batch: 154\n",
            "test batch size: 40 , num of batch: 173\n"
          ]
        }
      ]
    },
    {
      "cell_type": "code",
      "source": [
        "x_batch, y_batch= next(iter(train_loader))\n",
        "x_batch.shape, y_batch.shape"
      ],
      "metadata": {
        "colab": {
          "base_uri": "https://localhost:8080/"
        },
        "id": "7qOLluwk9ETL",
        "outputId": "ebf8cafb-31cc-4eb6-ac43-c067782061ff"
      },
      "execution_count": null,
      "outputs": [
        {
          "output_type": "execute_result",
          "data": {
            "text/plain": [
              "(torch.Size([20, 35]), torch.Size([20, 35]))"
            ]
          },
          "metadata": {},
          "execution_count": 19
        }
      ]
    },
    {
      "cell_type": "markdown",
      "source": [
        "-------"
      ],
      "metadata": {
        "id": "mlsX1XjLGnF5"
      }
    },
    {
      "cell_type": "markdown",
      "source": [
        "# 09_Model"
      ],
      "metadata": {
        "id": "3cFcoJ6IGo6T"
      }
    },
    {
      "cell_type": "code",
      "source": [
        "class LanguageModel(nn.Module):\n",
        "\n",
        "  def __init__(self, vocab_size, embedding_dim, hidden_dim, num_layers,\n",
        "                dropout_embd= 0.5, dropout_rnn= 0.5):\n",
        "    super().__init__()\n",
        "    self.num_layers= num_layers\n",
        "    self.hidden_dim= hidden_dim\n",
        "    self.embedding_dim= embedding_dim\n",
        "\n",
        "    self.embedding= nn.Embedding(vocab_size, embedding_dim)\n",
        "    self.embedding.weight.data.uniform_(-0.1, 0.1)\n",
        "    self.dropout= nn.Dropout(p=dropout_embd)\n",
        "\n",
        "    self.lstm= nn.LSTM(embedding_dim, hidden_dim, num_layers= num_layers,\n",
        "                        dropout= dropout_rnn, batch_first= True)\n",
        "\n",
        "    self.fc= nn.Linear(hidden_dim, vocab_size)\n",
        "\n",
        "  def forward(self, src):\n",
        "    embedding= self.dropout(self.embedding(src))\n",
        "    output, hidden= self.lstm(embedding)\n",
        "    prediction= self.fc(output)\n",
        "    return prediction"
      ],
      "metadata": {
        "id": "kSZENAuDGnvL"
      },
      "execution_count": 20,
      "outputs": []
    },
    {
      "cell_type": "code",
      "source": [
        "model= LanguageModel(vocab_size= len(vocab), embedding_dim= 300,\n",
        "                     hidden_dim= 512, num_layers= 2,\n",
        "                     dropout_embd= 0.65, dropout_rnn= 0.5)\n",
        "model"
      ],
      "metadata": {
        "colab": {
          "base_uri": "https://localhost:8080/"
        },
        "id": "gFyJcS0ZIrss",
        "outputId": "36eee223-76db-462e-cb18-925954c45e8a"
      },
      "execution_count": null,
      "outputs": [
        {
          "output_type": "execute_result",
          "data": {
            "text/plain": [
              "LanguageModel(\n",
              "  (embedding): Embedding(28782, 300)\n",
              "  (dropout): Dropout(p=0.65, inplace=False)\n",
              "  (lstm): LSTM(300, 512, num_layers=2, batch_first=True, dropout=0.5)\n",
              "  (fc): Linear(in_features=512, out_features=28782, bias=True)\n",
              ")"
            ]
          },
          "metadata": {},
          "execution_count": 21
        }
      ]
    },
    {
      "cell_type": "code",
      "source": [
        "print(num_trainable_params(model))\n",
        "print(num_trainable_params(model.embedding))\n",
        "print(num_trainable_params(model.lstm))\n",
        "print(num_trainable_params(model.fc))"
      ],
      "metadata": {
        "id": "r2pZWIY7UpbT",
        "colab": {
          "base_uri": "https://localhost:8080/"
        },
        "outputId": "1fdff249-d986-46dc-97a4-4145ade762e7"
      },
      "execution_count": null,
      "outputs": [
        {
          "output_type": "stream",
          "name": "stdout",
          "text": [
            "27.168086\n",
            "8.6346\n",
            "3.76832\n",
            "14.765166\n"
          ]
        }
      ]
    },
    {
      "cell_type": "markdown",
      "source": [
        "----------"
      ],
      "metadata": {
        "id": "2jMtl3dHI-Ua"
      }
    },
    {
      "cell_type": "markdown",
      "source": [
        "# 10_Config"
      ],
      "metadata": {
        "id": "3oU7tIYnJBcI"
      }
    },
    {
      "cell_type": "code",
      "source": [
        "vocab_size= len(vocab)\n",
        "embedding_dim= 300\n",
        "hidden_dim= 512\n",
        "num_layers= 2\n",
        "dropout_embd= 0.5\n",
        "dropout_rnn= 0.2\n",
        "\n",
        "model= LanguageModel(vocab_size, embedding_dim,\n",
        "                     hidden_dim, num_layers,\n",
        "                     dropout_embd, dropout_rnn).to(device)"
      ],
      "metadata": {
        "id": "bsXdeK5pI-3W"
      },
      "execution_count": null,
      "outputs": []
    },
    {
      "cell_type": "code",
      "source": [
        "optimizer= optim.SGD(model.parameters(), lr= 0.5,\n",
        "                     weight_decay= 0, momentum= 0.9,\n",
        "                     nesterov= True)\n",
        "\n",
        "loss_fn= nn.CrossEntropyLoss()\n",
        "metric= tm.text.Perplexity().to(device)"
      ],
      "metadata": {
        "id": "7nDxz27ZeBRO"
      },
      "execution_count": null,
      "outputs": []
    },
    {
      "cell_type": "markdown",
      "source": [
        "-------------"
      ],
      "metadata": {
        "id": "PQFvAZWPhC4t"
      }
    },
    {
      "cell_type": "markdown",
      "source": [
        "# 11_One epoch fn"
      ],
      "metadata": {
        "id": "vavGH93Thdkk"
      }
    },
    {
      "cell_type": "code",
      "source": [
        "def train_one_epoch(model, train_loader, loss_fn, optimizer, metric, epoch= None):\n",
        "  model.train()\n",
        "  loss_train= AverageMeter()\n",
        "  metric.reset()\n",
        "\n",
        "  with tqdm.tqdm(train_loader, unit= 'batch') as tepoch:\n",
        "    for inputs, targets in tepoch:\n",
        "      if epoch:\n",
        "        tepoch.set_description(f'Epoch {epoch}')\n",
        "\n",
        "      inputs= inputs.to(device)\n",
        "      targets= targets.to(device)\n",
        "      outputs= model(inputs)\n",
        "      loss= loss_fn(outputs.reshape(-1, outputs.shape[-1]), targets.flatten())\n",
        "\n",
        "      loss.backward()\n",
        "      nn.utils.clip_grad.clip_grad_norm_(model.parameters(), max_norm= 0.25)\n",
        "      optimizer.step()\n",
        "      optimizer.zero_grad()\n",
        "\n",
        "      loss_train.update(loss.item(), n= len(targets))\n",
        "      metric.update(outputs, targets)\n",
        "      tepoch.set_postfix(loss= loss_train.avg, metric= metric.compute().item())\n",
        "\n",
        "  return model, loss_train.avg, metric.compute().item()"
      ],
      "metadata": {
        "id": "q3lZn38ehD3e"
      },
      "execution_count": null,
      "outputs": []
    },
    {
      "cell_type": "code",
      "source": [
        "def evaluate(model, test_loader, loss_fn, metric):\n",
        "  model.eval()\n",
        "  loss_eval= AverageMeter()\n",
        "  metric.reset()\n",
        "\n",
        "  with torch.inference_mode():\n",
        "    for inputs, targets in test_loader:\n",
        "      inputs= inputs.to(device)\n",
        "      targets= targets.to(device)\n",
        "      outputs= model(inputs)\n",
        "\n",
        "      loss= loss_fn(outputs.reshape(-1, outputs.shape[-1]), targets.flatten())\n",
        "      loss_eval.update(loss.item(), n= len(targets))\n",
        "      metric(outputs, targets)\n",
        "\n",
        "  return loss_eval.avg, metric.compute().item()"
      ],
      "metadata": {
        "id": "GiGr0IYLnKM3"
      },
      "execution_count": null,
      "outputs": []
    },
    {
      "cell_type": "markdown",
      "source": [
        "-------"
      ],
      "metadata": {
        "id": "s2NIXJewnkVg"
      }
    },
    {
      "cell_type": "markdown",
      "source": [
        "# 12_Experiments before the main training"
      ],
      "metadata": {
        "id": "_8N6vQuYnlLy"
      }
    },
    {
      "cell_type": "markdown",
      "source": [
        "## base metric"
      ],
      "metadata": {
        "id": "4n-i6LS9nomW"
      }
    },
    {
      "cell_type": "code",
      "source": [
        "loss_base, metric_base= evaluate(model, test_loader, loss_fn, metric)\n",
        "print(f'{loss_base:.2f}, {metric_base:.2f}')"
      ],
      "metadata": {
        "colab": {
          "base_uri": "https://localhost:8080/"
        },
        "id": "RNgpA4GXnkzG",
        "outputId": "ca3120b8-71e7-4876-910f-3992bdb27aa4"
      },
      "execution_count": null,
      "outputs": [
        {
          "output_type": "stream",
          "name": "stdout",
          "text": [
            "10.28, 29002.41\n"
          ]
        }
      ]
    },
    {
      "cell_type": "markdown",
      "source": [
        "## overfit on subset of data"
      ],
      "metadata": {
        "id": "iwPjLPPPnsrO"
      }
    },
    {
      "cell_type": "code",
      "source": [
        "num_epochs= 7\n",
        "mini_train_size= 1000\n",
        "mini_batch_size= 20\n",
        "\n",
        "_, mini_train_dataset= random_split(train_set,\n",
        "                                   (len(train_set)- mini_train_size,\n",
        "                                    mini_train_size))\n",
        "mini_train_loader= DataLoader(mini_train_dataset, mini_batch_size)\n",
        "\n",
        "model= LanguageModel(vocab_size, embedding_dim,\n",
        "                     hidden_dim, num_layers,\n",
        "                     dropout_embd, dropout_rnn).to(device)\n",
        "optimizer= optim.SGD(model.parameters(), lr= 0.9, momentum= 0.9)\n",
        "\n",
        "for i in range(num_epochs):\n",
        "  model, loss_overfit, metric_overfit= train_one_epoch(model, train_loader,\n",
        "                                                       loss_fn, optimizer,\n",
        "                                                       metric, epoch= i+1)"
      ],
      "metadata": {
        "colab": {
          "base_uri": "https://localhost:8080/",
          "height": 518
        },
        "id": "UPk8WnLMnvhi",
        "outputId": "102f2aeb-7bba-4c39-ebf0-287e98cf8a9d"
      },
      "execution_count": null,
      "outputs": [
        {
          "output_type": "stream",
          "name": "stderr",
          "text": [
            "Epoch 1: 100%|██████████| 2929/2929 [01:46<00:00, 27.55batch/s, loss=6.19, metric=489]\n",
            "Epoch 2: 100%|██████████| 2929/2929 [01:50<00:00, 26.62batch/s, loss=5.51, metric=246]\n",
            "Epoch 3: 100%|██████████| 2929/2929 [01:51<00:00, 26.26batch/s, loss=5.2, metric=181]\n",
            "Epoch 4: 100%|██████████| 2929/2929 [01:50<00:00, 26.58batch/s, loss=4.99, metric=146]\n",
            "Epoch 5: 100%|██████████| 2929/2929 [01:50<00:00, 26.52batch/s, loss=4.82, metric=123]\n",
            "Epoch 6: 100%|██████████| 2929/2929 [01:50<00:00, 26.59batch/s, loss=4.68, metric=107]\n",
            "Epoch 7: 100%|██████████| 2929/2929 [01:50<00:00, 26.48batch/s, loss=4.56, metric=95.3]\n",
            "Epoch 8:   5%|▌         | 149/2929 [00:05<01:46, 26.00batch/s, loss=4.4, metric=81.4]\n"
          ]
        },
        {
          "output_type": "error",
          "ename": "KeyboardInterrupt",
          "evalue": "",
          "traceback": [
            "\u001b[0;31m---------------------------------------------------------------------------\u001b[0m",
            "\u001b[0;31mKeyboardInterrupt\u001b[0m                         Traceback (most recent call last)",
            "\u001b[0;32m<ipython-input-28-db650212fd05>\u001b[0m in \u001b[0;36m<cell line: 0>\u001b[0;34m()\u001b[0m\n\u001b[1;32m     14\u001b[0m \u001b[0;34m\u001b[0m\u001b[0m\n\u001b[1;32m     15\u001b[0m \u001b[0;32mfor\u001b[0m \u001b[0mi\u001b[0m \u001b[0;32min\u001b[0m \u001b[0mrange\u001b[0m\u001b[0;34m(\u001b[0m\u001b[0mnum_epochs\u001b[0m\u001b[0;34m)\u001b[0m\u001b[0;34m:\u001b[0m\u001b[0;34m\u001b[0m\u001b[0;34m\u001b[0m\u001b[0m\n\u001b[0;32m---> 16\u001b[0;31m   model, loss_overfit, metric_overfit= train_one_epoch(model, train_loader, \n\u001b[0m\u001b[1;32m     17\u001b[0m                                                        \u001b[0mloss_fn\u001b[0m\u001b[0;34m,\u001b[0m \u001b[0moptimizer\u001b[0m\u001b[0;34m,\u001b[0m\u001b[0;34m\u001b[0m\u001b[0;34m\u001b[0m\u001b[0m\n\u001b[1;32m     18\u001b[0m                                                        metric, epoch= i+1)\n",
            "\u001b[0;32m<ipython-input-25-b13ca3819ebb>\u001b[0m in \u001b[0;36mtrain_one_epoch\u001b[0;34m(model, train_loader, loss_fn, optimizer, metric, epoch)\u001b[0m\n\u001b[1;32m     19\u001b[0m       \u001b[0moptimizer\u001b[0m\u001b[0;34m.\u001b[0m\u001b[0mzero_grad\u001b[0m\u001b[0;34m(\u001b[0m\u001b[0;34m)\u001b[0m\u001b[0;34m\u001b[0m\u001b[0;34m\u001b[0m\u001b[0m\n\u001b[1;32m     20\u001b[0m \u001b[0;34m\u001b[0m\u001b[0m\n\u001b[0;32m---> 21\u001b[0;31m       \u001b[0mloss_train\u001b[0m\u001b[0;34m.\u001b[0m\u001b[0mupdate\u001b[0m\u001b[0;34m(\u001b[0m\u001b[0mloss\u001b[0m\u001b[0;34m.\u001b[0m\u001b[0mitem\u001b[0m\u001b[0;34m(\u001b[0m\u001b[0;34m)\u001b[0m\u001b[0;34m,\u001b[0m \u001b[0mn\u001b[0m\u001b[0;34m=\u001b[0m \u001b[0mlen\u001b[0m\u001b[0;34m(\u001b[0m\u001b[0mtargets\u001b[0m\u001b[0;34m)\u001b[0m\u001b[0;34m)\u001b[0m\u001b[0;34m\u001b[0m\u001b[0;34m\u001b[0m\u001b[0m\n\u001b[0m\u001b[1;32m     22\u001b[0m       \u001b[0mmetric\u001b[0m\u001b[0;34m.\u001b[0m\u001b[0mupdate\u001b[0m\u001b[0;34m(\u001b[0m\u001b[0moutputs\u001b[0m\u001b[0;34m,\u001b[0m \u001b[0mtargets\u001b[0m\u001b[0;34m)\u001b[0m\u001b[0;34m\u001b[0m\u001b[0;34m\u001b[0m\u001b[0m\n\u001b[1;32m     23\u001b[0m       \u001b[0mtepoch\u001b[0m\u001b[0;34m.\u001b[0m\u001b[0mset_postfix\u001b[0m\u001b[0;34m(\u001b[0m\u001b[0mloss\u001b[0m\u001b[0;34m=\u001b[0m \u001b[0mloss_train\u001b[0m\u001b[0;34m.\u001b[0m\u001b[0mavg\u001b[0m\u001b[0;34m,\u001b[0m \u001b[0mmetric\u001b[0m\u001b[0;34m=\u001b[0m \u001b[0mmetric\u001b[0m\u001b[0;34m.\u001b[0m\u001b[0mcompute\u001b[0m\u001b[0;34m(\u001b[0m\u001b[0;34m)\u001b[0m\u001b[0;34m.\u001b[0m\u001b[0mitem\u001b[0m\u001b[0;34m(\u001b[0m\u001b[0;34m)\u001b[0m\u001b[0;34m)\u001b[0m\u001b[0;34m\u001b[0m\u001b[0;34m\u001b[0m\u001b[0m\n",
            "\u001b[0;31mKeyboardInterrupt\u001b[0m: "
          ]
        }
      ]
    },
    {
      "cell_type": "markdown",
      "source": [
        "## grid search"
      ],
      "metadata": {
        "id": "66iZOMomnwIA"
      }
    },
    {
      "cell_type": "code",
      "source": [
        "num_epochs= 1\n",
        "loss_grid= loss_base\n",
        "\n",
        "for lr in [3, 2, 0.9, 0.3]:\n",
        "  print(f'LR={lr}')\n",
        "\n",
        "  model= LanguageModel(len(vocab), embedding_dim= 300,\n",
        "                       hidden_dim= 512, num_layers= 2,\n",
        "                       dropout_embd= 0.5, dropout_rnn= 0.2).to(device)\n",
        "  model= torch.load(f'{project_path}model.pt')\n",
        "  optimizer= optim.SGD(model.parameters(), lr= lr, weight_decay= 1e-6, momentum= 0.9)\n",
        "\n",
        "  for epoch in range(num_epochs):\n",
        "    model, loss, _= train_one_epoch(model, train_loader, loss_fn, optimizer, metric, epoch)\n",
        "  if loss< loss_grid:\n",
        "    best_lr= lr\n",
        "    loss_grid= loss\n",
        "    print(f'best loss is: {loss_grid} with lr: {best_lr}')\n",
        "  print()"
      ],
      "metadata": {
        "colab": {
          "base_uri": "https://localhost:8080/"
        },
        "id": "JtWrQc3hnyyf",
        "outputId": "82059df7-7f76-4e7f-90eb-3eabf8caafb5"
      },
      "execution_count": null,
      "outputs": [
        {
          "output_type": "stream",
          "name": "stdout",
          "text": [
            "LR=3\n"
          ]
        },
        {
          "output_type": "stream",
          "name": "stderr",
          "text": [
            "100%|██████████| 2929/2929 [01:54<00:00, 25.69batch/s, loss=4.49, metric=89]\n"
          ]
        },
        {
          "output_type": "stream",
          "name": "stdout",
          "text": [
            "best loss is: 4.488647199866082 with lr: 3\n",
            "\n",
            "LR=2\n"
          ]
        },
        {
          "output_type": "stream",
          "name": "stderr",
          "text": [
            "100%|██████████| 2929/2929 [01:52<00:00, 25.97batch/s, loss=4.36, metric=78.5]\n"
          ]
        },
        {
          "output_type": "stream",
          "name": "stdout",
          "text": [
            "best loss is: 4.3629220832770255 with lr: 2\n",
            "\n",
            "LR=0.9\n"
          ]
        },
        {
          "output_type": "stream",
          "name": "stderr",
          "text": [
            "100%|██████████| 2929/2929 [01:52<00:00, 25.95batch/s, loss=4.24, metric=69.7]\n"
          ]
        },
        {
          "output_type": "stream",
          "name": "stdout",
          "text": [
            "best loss is: 4.244371698906121 with lr: 0.9\n",
            "\n",
            "LR=0.3\n"
          ]
        },
        {
          "output_type": "stream",
          "name": "stderr",
          "text": [
            "100%|██████████| 2929/2929 [01:52<00:00, 25.95batch/s, loss=4.22, metric=68.2]"
          ]
        },
        {
          "output_type": "stream",
          "name": "stdout",
          "text": [
            "best loss is: 4.222281780460452 with lr: 0.3\n",
            "\n"
          ]
        },
        {
          "output_type": "stream",
          "name": "stderr",
          "text": [
            "\n"
          ]
        }
      ]
    },
    {
      "cell_type": "code",
      "source": [
        "num_epochs= 2\n",
        "lr= best_lr\n",
        "\n",
        "for wd in [0, 1e-6]: #, 1e-5\n",
        "  print(f'LR={lr}, WD={wd}')\n",
        "\n",
        "  model= LanguageModel(len(vocab), embedding_dim= 300,\n",
        "                       hidden_dim= 512, num_layers= 2,\n",
        "                       dropout_embd= 0.5, dropout_rnn= 0.2).to(device)\n",
        "  model= torch.load(f'{project_path}model.pt')\n",
        "  optimizer= optim.SGD(model.parameters(), lr= lr, weight_decay= wd, momentum= 0.9)\n",
        "\n",
        "  for epoch in range(num_epochs):\n",
        "    model, _, _ = train_one_epoch(model, train_loader, loss_fn, optimizer, metric, epoch)\n",
        "    loss_valid, metric_valid= evaluate(model, valid_loader, loss_fn, metric)\n",
        "    print(f'Valid: Loss= {loss_valid:.4}, Metric= {metric_valid:.4}')\n",
        "  print()"
      ],
      "metadata": {
        "colab": {
          "base_uri": "https://localhost:8080/"
        },
        "id": "t0WCySbuwBDY",
        "outputId": "dc2dfdd9-b04e-4a87-80f5-6565666d6e02"
      },
      "execution_count": null,
      "outputs": [
        {
          "output_type": "stream",
          "name": "stdout",
          "text": [
            "LR=0.3, WD=0\n"
          ]
        },
        {
          "output_type": "stream",
          "name": "stderr",
          "text": [
            "100%|██████████| 2929/2929 [01:49<00:00, 26.68batch/s, loss=4.22, metric=68.2]\n"
          ]
        },
        {
          "output_type": "stream",
          "name": "stdout",
          "text": [
            "Valid: Loss= 4.871, Metric= 130.5\n"
          ]
        },
        {
          "output_type": "stream",
          "name": "stderr",
          "text": [
            "Epoch 1: 100%|██████████| 2929/2929 [01:50<00:00, 26.50batch/s, loss=4.13, metric=61.9]\n"
          ]
        },
        {
          "output_type": "stream",
          "name": "stdout",
          "text": [
            "Valid: Loss= 4.865, Metric= 129.7\n",
            "\n",
            "LR=0.3, WD=1e-06\n"
          ]
        },
        {
          "output_type": "stream",
          "name": "stderr",
          "text": [
            "100%|██████████| 2929/2929 [01:54<00:00, 25.69batch/s, loss=4.22, metric=68.2]\n"
          ]
        },
        {
          "output_type": "stream",
          "name": "stdout",
          "text": [
            "Valid: Loss= 4.871, Metric= 130.4\n"
          ]
        },
        {
          "output_type": "stream",
          "name": "stderr",
          "text": [
            "Epoch 1: 100%|██████████| 2929/2929 [01:55<00:00, 25.32batch/s, loss=4.13, metric=62]\n"
          ]
        },
        {
          "output_type": "stream",
          "name": "stdout",
          "text": [
            "Valid: Loss= 4.862, Metric= 129.3\n",
            "\n"
          ]
        }
      ]
    },
    {
      "cell_type": "markdown",
      "source": [
        "---------"
      ],
      "metadata": {
        "id": "YHK9iAf3utps"
      }
    },
    {
      "cell_type": "markdown",
      "source": [
        "# 13_Training"
      ],
      "metadata": {
        "id": "h2dpeeVduu69"
      }
    },
    {
      "cell_type": "code",
      "source": [
        "loss_train_hist, loss_valid_hist= [], []\n",
        "metric_train_hist, metric_valid_hist= [], []\n",
        "best_loss_valid= torch.inf\n",
        "epoch_counter= 0\n",
        "\n",
        "model= LanguageModel(len(vocab), embedding_dim= 300,\n",
        "                     hidden_dim= 512, num_layers= 2,\n",
        "                     dropout_embd= 0.5, dropout_rnn= 0.2).to(device)"
      ],
      "metadata": {
        "id": "ah_VLsE2uuR3"
      },
      "execution_count": null,
      "outputs": []
    },
    {
      "cell_type": "code",
      "source": [
        "lr, wd= 0.3, 1e-6 #3, 0\n",
        "model= torch.load(f'{project_path}model.pt')\n",
        "optimizer= optim.SGD(model.parameters(), lr= lr, weight_decay= wd, momentum= 0.9)"
      ],
      "metadata": {
        "id": "NjT9kLrZDLUd"
      },
      "execution_count": null,
      "outputs": []
    },
    {
      "cell_type": "code",
      "source": [
        "num_epochs= 7\n",
        "for epoch in range(1, num_epochs+1):\n",
        "  model, loss_train, metric_train= train_one_epoch(model, train_loader,\n",
        "                                                   loss_fn, optimizer,\n",
        "                                                   metric, epoch)\n",
        "\n",
        "  loss_valid, metric_valid= evaluate(model, valid_loader,\n",
        "                                            loss_fn, metric)\n",
        "\n",
        "  loss_train_hist.append(loss_train)\n",
        "  loss_valid_hist.append(loss_valid)\n",
        "  metric_train_hist.append(metric_train)\n",
        "  metric_valid_hist.append(metric_valid)\n",
        "\n",
        "  if loss_valid < best_loss_valid:\n",
        "    torch.save(model, f'{project_path}model.pt')\n",
        "    best_loss_valid= loss_valid\n",
        "    print('Model Saved!')\n",
        "\n",
        "  print(f'Valid: Loss= {loss_valid:.4}, Metric= {metric_valid:.4}')\n",
        "  print()\n",
        "\n",
        "  epoch_counter += 1"
      ],
      "metadata": {
        "colab": {
          "base_uri": "https://localhost:8080/"
        },
        "id": "lM6c8lXiDiwz",
        "outputId": "23207b11-6a20-4f74-c6ae-65ae11cb02ad"
      },
      "execution_count": null,
      "outputs": [
        {
          "output_type": "stream",
          "name": "stderr",
          "text": [
            "Epoch 1: 100%|██████████| 2929/2929 [01:56<00:00, 25.11batch/s, loss=4.22, metric=68.2]\n"
          ]
        },
        {
          "output_type": "stream",
          "name": "stdout",
          "text": [
            "Model Saved!\n",
            "Valid: Loss= 4.869, Metric= 130.2\n",
            "\n"
          ]
        },
        {
          "output_type": "stream",
          "name": "stderr",
          "text": [
            "Epoch 2: 100%|██████████| 2929/2929 [01:56<00:00, 25.14batch/s, loss=4.13, metric=62]\n"
          ]
        },
        {
          "output_type": "stream",
          "name": "stdout",
          "text": [
            "Model Saved!\n",
            "Valid: Loss= 4.859, Metric= 128.8\n",
            "\n"
          ]
        },
        {
          "output_type": "stream",
          "name": "stderr",
          "text": [
            "Epoch 3: 100%|██████████| 2929/2929 [01:56<00:00, 25.22batch/s, loss=4.08, metric=58.9]\n"
          ]
        },
        {
          "output_type": "stream",
          "name": "stdout",
          "text": [
            "Valid: Loss= 4.86, Metric= 129.0\n",
            "\n"
          ]
        },
        {
          "output_type": "stream",
          "name": "stderr",
          "text": [
            "Epoch 4: 100%|██████████| 2929/2929 [01:54<00:00, 25.61batch/s, loss=4.04, metric=56.6]\n"
          ]
        },
        {
          "output_type": "stream",
          "name": "stdout",
          "text": [
            "Valid: Loss= 4.859, Metric= 129.0\n",
            "\n"
          ]
        },
        {
          "output_type": "stream",
          "name": "stderr",
          "text": [
            "Epoch 5: 100%|██████████| 2929/2929 [01:56<00:00, 25.04batch/s, loss=4, metric=54.7]\n"
          ]
        },
        {
          "output_type": "stream",
          "name": "stdout",
          "text": [
            "Valid: Loss= 4.86, Metric= 129.0\n",
            "\n"
          ]
        }
      ]
    },
    {
      "cell_type": "code",
      "source": [
        "torch.save(test_loader, f'{project_path}test_loader.pt')"
      ],
      "metadata": {
        "id": "Ltir956EUDuV"
      },
      "execution_count": null,
      "outputs": []
    },
    {
      "cell_type": "markdown",
      "source": [
        "----------"
      ],
      "metadata": {
        "id": "WxlTQuzyMqyY"
      }
    },
    {
      "cell_type": "markdown",
      "source": [
        "# 14_Learning curve"
      ],
      "metadata": {
        "id": "uEoui4HMSe6s"
      }
    },
    {
      "cell_type": "code",
      "source": [
        "plt.figure(figsize=(8, 6))\n",
        "\n",
        "plt.plot(range(len(loss_train_hist)), loss_train_hist, 'k-', label='Train')\n",
        "plt.plot(range(len(loss_valid_hist)), loss_valid_hist, 'b-', label='Validation')\n",
        "\n",
        "plt.xlabel('Epoch')\n",
        "plt.ylabel('Cross entropy')\n",
        "plt.grid(True)\n",
        "plt.legend()"
      ],
      "metadata": {
        "colab": {
          "base_uri": "https://localhost:8080/",
          "height": 560
        },
        "id": "OMHTkd2eShq0",
        "outputId": "d942de7f-5b31-4f4d-eea9-a254e7906061"
      },
      "execution_count": null,
      "outputs": [
        {
          "output_type": "execute_result",
          "data": {
            "text/plain": [
              "<matplotlib.legend.Legend at 0x78d474439f90>"
            ]
          },
          "metadata": {},
          "execution_count": 49
        },
        {
          "output_type": "display_data",
          "data": {
            "text/plain": [
              "<Figure size 800x600 with 1 Axes>"
            ],
            "image/png": "[encoded data removed]"
          },
          "metadata": {}
        }
      ]
    },
    {
      "cell_type": "code",
      "source": [
        "plt.figure(figsize=(8, 6))\n",
        "\n",
        "plt.plot(range(len(metric_train_hist)), metric_train_hist, 'k-', label='Train')\n",
        "plt.plot(range(len(metric_valid_hist)), metric_valid_hist, 'b-', label='Validation')\n",
        "\n",
        "plt.xlabel('Epoch')\n",
        "plt.ylabel('Perplexity')\n",
        "plt.grid(True)\n",
        "plt.legend()"
      ],
      "metadata": {
        "colab": {
          "base_uri": "https://localhost:8080/",
          "height": 560
        },
        "id": "hDQKEw5_S6tR",
        "outputId": "197bebf1-a03f-48be-c7fa-a3fb6cc7e807"
      },
      "execution_count": null,
      "outputs": [
        {
          "output_type": "execute_result",
          "data": {
            "text/plain": [
              "<matplotlib.legend.Legend at 0x78d45ebaa450>"
            ]
          },
          "metadata": {},
          "execution_count": 50
        },
        {
          "output_type": "display_data",
          "data": {
            "text/plain": [
              "<Figure size 800x600 with 1 Axes>"
            ],
            "image/png": "[encoded data removed]"
          },
          "metadata": {}
        }
      ]
    },
    {
      "cell_type": "markdown",
      "source": [
        "-------"
      ],
      "metadata": {
        "id": "ce5bgG6ASdne"
      }
    },
    {
      "cell_type": "markdown",
      "source": [
        "# 15_Test"
      ],
      "metadata": {
        "id": "nBbUE2h7Mr-h"
      }
    },
    {
      "cell_type": "code",
      "source": [
        "model= torch.load(f'{project_path}model.pt')\n",
        "model.eval()\n",
        "with torch.no_grad():\n",
        "  loss_test, metric_test= evaluate(model, test_loader, loss_fn, metric)\n",
        "  print(f'Test: Loss= {loss_test:.1f}, Metric= {metric_test:.1f}')"
      ],
      "metadata": {
        "colab": {
          "base_uri": "https://localhost:8080/"
        },
        "id": "Ic9CI4qNMrmz",
        "outputId": "b2ff0398-e332-4ac2-c17d-9931375908c6"
      },
      "execution_count": null,
      "outputs": [
        {
          "output_type": "stream",
          "name": "stdout",
          "text": [
            "Test: Loss= 4.8, Metric= 122.8\n"
          ]
        }
      ]
    },
    {
      "cell_type": "markdown",
      "source": [
        "------------"
      ],
      "metadata": {
        "id": "Dcky-9ygZL_w"
      }
    },
    {
      "cell_type": "markdown",
      "source": [
        "# 16_Text Generator"
      ],
      "metadata": {
        "id": "lMWP0jFTZM-U"
      }
    },
    {
      "cell_type": "code",
      "source": [
        "def generate(prompt, max_seq_len, model, tokenizer, vocab, temperature= 0.5):\n",
        "  indices= vocab(tokenizer(prompt))\n",
        "  itos= vocab.get_itos()\n",
        "\n",
        "  for i in range(max_seq_len):\n",
        "    with torch.no_grad():\n",
        "      prediction= model(torch.LongTensor(indices).to(device))\n",
        "\n",
        "    probs= torch.softmax(prediction[-1]/temperature, dim=0)\n",
        "\n",
        "    idx= vocab['<ukn>']\n",
        "    while idx == vocab['<ukn>']:\n",
        "      idx= torch.multinomial(probs, num_samples= 1).item()\n",
        "\n",
        "    token= itos[idx]\n",
        "    prompt +=' ' +token\n",
        "\n",
        "    if idx == vocab['.']:\n",
        "      return prompt\n",
        "\n",
        "    indices.append(idx)\n",
        "\n",
        "  return prompt"
      ],
      "metadata": {
        "id": "swuPJWORZ6GJ"
      },
      "execution_count": 24,
      "outputs": []
    },
    {
      "cell_type": "code",
      "source": [
        "prompt_list= ['In a galaxy far, far away, there', 'The sun was setting in the',\n",
        "              'Once upon a time, there lived a young princess named',\n",
        "              'What is the meaning ', 'I\\'m not in danger, i am the']\n",
        "\n",
        "model= torch.load(f'{project_path}models/lstm_model.pt',\n",
        "                  map_location= device)\n",
        "model.eval()\n",
        "\n",
        "for prompt in prompt_list:\n",
        "  print(generate(prompt, 35, model, tokenizer, vocab))\n",
        "  print()"
      ],
      "metadata": {
        "colab": {
          "base_uri": "https://localhost:8080/"
        },
        "id": "lSIe3YGgNkVu",
        "outputId": "d3d6908b-2be9-4e09-e599-935c97f345ed"
      },
      "execution_count": 25,
      "outputs": [
        {
          "output_type": "stream",
          "name": "stdout",
          "text": [
            "In a galaxy far, far away, there were only a few minor alterations in the early stages of the 20th century .\n",
            "\n",
            "The sun was setting in the original game , but the company ' s main character was not able to focus on the same standards , and that it was a delightful metaphor in the game .\n",
            "\n",
            "Once upon a time, there lived a young princess named in the middle and the rear is a black @-@ black colour , with the crescent being unable to obtain the right .\n",
            "\n",
            "What is the meaning  of the word wicca , was published in 1829 by the 15th century .\n",
            "\n",
            "I'm not in danger, i am the same as well as the most remarkable you , it ' s just a lot of fun .\n",
            "\n"
          ]
        }
      ]
    }
  ]
}